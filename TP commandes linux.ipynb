{
 "cells": [
  {
   "cell_type": "code",
   "execution_count": 4,
   "metadata": {},
   "outputs": [
    {
     "data": {
      "text/html": [
       "<iframe width=\"560\" height=\"315\" src=\"https://www.youtube.com/embed/R1jYrBHR8SY\" frameborder=\"0\" allow=\"accelerometer; autoplay; encrypted-media; gyroscope; picture-in-picture\" allowfullscreen></iframe>\n",
       "<iframe width=\"560\" height=\"315\" src=\"https://www.youtube.com/embed/Y-KyODibJcw\" frameborder=\"0\" allow=\"accelerometer; autoplay; encrypted-media; gyroscope; picture-in-picture\" allowfullscreen></iframe>\n"
      ],
      "text/plain": [
       "<IPython.core.display.HTML object>"
      ]
     },
     "metadata": {},
     "output_type": "display_data"
    }
   ],
   "source": [
    "%%html\n",
    "<iframe width=\"560\" height=\"315\" src=\"https://www.youtube.com/embed/R1jYrBHR8SY\" frameborder=\"0\" allow=\"accelerometer; autoplay; encrypted-media; gyroscope; picture-in-picture\" allowfullscreen></iframe>\n",
    "<iframe width=\"560\" height=\"315\" src=\"https://www.youtube.com/embed/Y-KyODibJcw\" frameborder=\"0\" allow=\"accelerometer; autoplay; encrypted-media; gyroscope; picture-in-picture\" allowfullscreen></iframe>\n"
   ]
  },
  {
   "cell_type": "markdown",
   "metadata": {},
   "source": [
    "<h1>TP systèmes d'exploitations</h1>\n",
    "\n",
    "<br><br>\n",
    "<p>Un ordinateur est un ensemble d’éléments électroniques et mécaniques animé par un calculateur central appelé micro-processeur. Sur cet ensemble se greﬀent des composants plus ou moins \"externes\", dits périphériques, qui sont des dispositifs dédiés aux entrées et sorties de données vers et depuis le microprocesseur. Certains de ces périphériques sont en charge de l’interaction avec l’utilisateur comme par exemple le haut-parleur, le clavier ou encore l’écran. Pour chacun de ces types de périphériques, il y a de nombreux modèles avec pour chacun d’eux des spéciﬁcités techniques propres. L’utilisation de ces équipements depuis un programme informatique demanderait au concepteur de ce programme (le programmeur) d’écrire du code qui va interagir directement avec les équipements. Mais c’est là un travail complexe, car il faudrait prendre en compte toutes les diversités techniques pour un même type d’équipement. Car la portabilité d’un tel code (le fait d’assurer son bon fonctionnement pour tous les cas de ﬁgure) obligerait à prendre en compte, dans le développement, tous les périphériques qui pourraient être rencontrés. Ce serait là une tâche beaucoup trop longue et compliquée, et le résultat serait un programme dont le code serait volumineux avec le risque d’un nombre important de bugs. Aussi, la solution proposée à cette problématique est ce qu’on appelle le système d’exploitation.\n",
    "</p>\n",
    "<BR>\n",
    "    <p> Le rôle du noyau est de masquer l’hétérogénéité des composants en oﬀrant des fonctionnalités de manipulation uniformes, quel que soit le dispositif réellement connecté à l’ordinateur. Il décharge ainsi les programmes de la gestion spéciﬁque de chaque matériel. Le noyau gère notamment les entrées sorties (I/O : Inputs/Outputs), que ce soit vers ou depuis les périphériques de stockage, le clavier ou encore l’écran. C’est aussi un gestionnaire de ressources qui s’occupe de distribuer la mémoire, le temps de calcul CPU, les accès aux périphériques, etc. de manière équitable et eﬃcace entres les diﬀérents programmes qui s’exécutent en même temps. La vision simpliﬁée que l’on peut avoir d’un ordinateur peut se représenter par la ﬁgure 0.3.1. L’utilisateur accède à des applications qui utilisent des ressources matérielles qui sont gérées et contrôlées par le noyau. Rien ne peut se faire sans le concours du noyau. C’est la raison pour laquelle l’ordinateur se bloque lorsqu’il y a une erreur dans le noyau.\n",
    "</p>\n",
    "    <p>Le système d’exploitation Unix est un noyau très complet. En\n",
    "Arrière plan On dit qu’un programme s’exécute en arrière plan lorsqu’il n’a pas besoin d’être associé à une session. Autrement dit, il n’a pas besoin d’un écran et d’un clavier pour fonctionner. Nous reviendrons sur cette notion dans la suite de ce cours.\n",
    "plus de prendre en charge la gestion de la mémoire, celle des entrées/sorties et de la répartition des temps de calcul entre les programmes, il incorpore également des programmes utilitaires pour eﬀectuer des tâches courantes comme la lecture des ﬁchiers ou leur édition. Ces programmes peuvent être sollicités à la demande, ou bien encore s’exécuter en permanence en arrière plan (on parle alors de service) de sorte à toujours être disponible instantanément.Cet ensemble de constituants est accompagné de ﬁchiers de conﬁguration spéciﬁques qui déﬁnissent les nombreux réglages de ces diﬀérents utilitaires et services. C’est cet ensemble composé du noyau et des programmes utilitaires qu’on appelle le système Unix.</p><br><br>\n",
    "    <p>Parmi les outils, il y a le shell qui permet de communiquer directement avec le noyau.</p><br>\n",
    "    <p>Il existe plusieurs shell. Certains sont conformes à la norme POSIX, ils présentent le plus d’avantages, notamment en termes de portabilité. Car ils partagent un même ensemble de syntaxe, ce qui assure notamment que des commandes ou des scripts développés dans l’un des shells respectant cette norme pourra fonctionner à l’identique dans tous les autres shells conformes à POSIX</p>"
   ]
  },
  {
   "cell_type": "markdown",
   "metadata": {},
   "source": [
    "<h2>Rechercher ce que signifie POSIX, dans un fichier texte nommé NSI_OS</h2>"
   ]
  },
  {
   "cell_type": "markdown",
   "metadata": {},
   "source": [
    "<h1>Commandes LINUX </h1>\n",
    "<br>\n",
    "<h2>Console sans authentification</h2>\n",
    "<p>Dans la cellule ci-dessous, cliquez sur Exécuter pour lancer un simulateur Linux</p>"
   ]
  },
  {
   "cell_type": "code",
   "execution_count": null,
   "metadata": {},
   "outputs": [],
   "source": [
    "%%html\n",
    "\n",
    "<iframe src=\"https://weblinux.moocbash.fr\" width=\"100%\" height=\"500\" frameborder=\"0\" marginwidth=\"0\" marginheight=\"0\" allowfullscreen></iframe>"
   ]
  },
  {
   "cell_type": "markdown",
   "metadata": {},
   "source": [
    "<h2>Défi 1 :</h2>\n",
    "<p>Taper alors les commandes suivantes:\n",
    "    cal -m nov\n",
    "    date\n",
    "    date +%s\n",
    "    ls\n",
    "    echo toto\n",
    "    echo titi\n",
    "    nano\n",
    " Commentez vos résultats dans le fichier texte que vous avez créée. Rechercher à quoi sert nano.</p>"
   ]
  },
  {
   "cell_type": "markdown",
   "metadata": {},
   "source": [
    "<h2>Défi 2:</h2>\n",
    "<p>l'invite de commande indique que le shell est prêt à accepter votre commande. Une fois saisie, le shell analyse et interprète votre commande puis l'exécute. Tant que la commande n'a pas fini son exécution, l'invite de commande ne s'affiche pas et il ne vous est pas possible d'en exécuter une nouvelle.\n",
    "\n",
    "Nous allons expérimenter ce comportement à l'aide de la commande sleep.\n",
    "Exécuter la commande sleep 10. Au bout de combien de temps a-t-il été possible de saisir et exécuter à nouveau une commande ?</p>"
   ]
  },
  {
   "cell_type": "markdown",
   "metadata": {},
   "source": [
    "<h2>Défi 3</h2>"
   ]
  },
  {
   "cell_type": "markdown",
   "metadata": {},
   "source": [
    "<p>Votre mission est de maîtriser l'usage de la commande date à travers ses options, arguments et arguments d'options.</p>\n",
    "<br>\n",
    "   <p> Entrer la commande date sans argument. L'heure courante devrait s'afficher.\n",
    "    Utiliser les options -u puis --utc pour demander à la commande date d'afficher à l'heure UTC+0. Y a-t-il une différence entre la valeur retournée par ces deux options ?</p>\n",
    "<code>$ date -u\n",
    "$ date --utc</code>\n",
    "<p>\n",
    "    Il est possible de spécifier le format d'affichage souhaité. Par exemple pour que la date soit affichée sous forme d'un estampille temporelle (timestamp) système (nombre de secondes écoulées depuis 00:00:00 1970-01-01 UTC), il suffit de passer +%s en argument.</p><br>\n",
    " <p>   Passer +%s en argument de la commande date et afficher l'estampille temporelle système.</p>\n",
    "\n",
    "<code>$ date +%s </code>\n",
    "\n",
    "<p>    Afin de convertir un timestamp système en date lisible par un humain, vous allez utiliser une option et passer un argument à cette option. L'option -d (--date dans sa version longue) permet d'indiquer que vous souhaitez spécifier une date à afficher. Naturellement, elle doit être suivie de la valeur de la date.</p>\n",
    " <br><p>   Saisir la commande date -d @1000214040. Ici -d est une option et @1000214040 est l'argument de l'option -d\n",
    " <br>   A quels année, mois et jour le timestamp système 1000214040 fait-il référence ?</p><br><p>\n",
    "    Observe-t-on une différence dans le résultat de la commande selon que les arguments et options sont séparés par un seul ou plusieurs espaces ?</p>\n",
    "\n",
    "<code>      $ date -d          @1000214040         +%d/%m/%y\n",
    "      $ date -d @1000214040 +%d/%m/%y </code>\n",
    "\n"
   ]
  },
  {
   "cell_type": "markdown",
   "metadata": {},
   "source": [
    "<h2>Autres commandes:</h2>"
   ]
  },
  {
   "cell_type": "markdown",
   "metadata": {},
   "source": [
    "<p>Les systèmes de type Unix disposent d’un outil de visualisation des manuels appelé man, diminutif du terme anglais MANual. Lorsque l’on cherche à accéder à la documentation d’une commande, il suﬃt d’appeler man avec pour argument le nom de la commande dont on cherche le manuel. Par exemple, on peut accéder au manuel de la commande date par la commande suivante :</p>\n",
    "<code>$ man date</code>\n",
    "<br>DATE(1) User Commands DATE(1)\n",
    "<br>NAME\n",
    "<br>date - print or set the system date and time\n",
    "<br>SYNOPSIS date [OPTION]... [+FORMAT] date [-u|--utc|--universal] [MMDDhhmm[[CC]YY][.ss]]\n",
    "<br>DESCRIPTION (...)\n",
    "<br><p>\n",
    "La commande man interprète des ﬁchiers de documentation puis les aﬃche via le lecteur de ﬁchier less que nous aborderons plus tard. Sachez simplement que ce lecteur fait déﬁler le texte par page d’écran et permet de faire des recherches de motifs. Retenez que pour sortir du manuel en ligne, il faut taper la lettre ’q’. </p>\n",
    "\n",
    "<h2>DEFI:</h2>\n",
    "<p>Que fait cut? Ce défi est une première prise en main de la commande man. Vous allez ainsi découvrir une commande qui vous est a priori inconnue. Prenons l’exemple avec la commande cut. 1. Á l’aide de la commande man, indiquer ce que fait la commande cut aux ﬁchiers texte qui lui sont passés en paramètre.</p><br><p> 2. Doit-onpasseraumoinsuneoption(courteoulongue)enargumentàlacommandecut? </p><br><p>3. Peut-on passer plus d’une option (courte ou longue) en argument à la commande cut? 4. Doit-on passer au moins un nom de ﬁchier en argument à la commande cut? 5. Peut-on passer plus d’un ﬁchier en argument à la commande cut? 6. Indiquer ce que fait l’option –-version"
   ]
  },
  {
   "cell_type": "markdown",
   "metadata": {},
   "source": [
    "<h2>Console avec identification</h2>"
   ]
  },
  {
   "cell_type": "code",
   "execution_count": null,
   "metadata": {},
   "outputs": [],
   "source": [
    "%%html\n",
    "\n",
    "<iframe src=\"http://login.moocbash.fr\" width=\"100%\" height=\"600\" frameborder=\"0\" marginwidth=\"0\" marginheight=\"0\" allowfullscreen></iframe>"
   ]
  },
  {
   "cell_type": "code",
   "execution_count": null,
   "metadata": {},
   "outputs": [],
   "source": []
  },
  {
   "cell_type": "code",
   "execution_count": null,
   "metadata": {},
   "outputs": [],
   "source": []
  }
 ],
 "metadata": {
  "kernelspec": {
   "display_name": "Python 3",
   "language": "python",
   "name": "python3"
  },
  "language_info": {
   "codemirror_mode": {
    "name": "ipython",
    "version": 3
   },
   "file_extension": ".py",
   "mimetype": "text/x-python",
   "name": "python",
   "nbconvert_exporter": "python",
   "pygments_lexer": "ipython3",
   "version": "3.7.1"
  }
 },
 "nbformat": 4,
 "nbformat_minor": 2
}
