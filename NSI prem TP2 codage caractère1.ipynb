{
 "cells": [
  {
   "cell_type": "markdown",
   "metadata": {
    "colab_type": "text",
    "id": "Jrim43CQIT4Q"
   },
   "source": [
    "# TP -  Codage des caractères (1)"
   ]
  },
  {
   "cell_type": "markdown",
   "metadata": {
    "colab_type": "text",
    "id": "rjDtTTFawi4m"
   },
   "source": [
    "Nom :\n",
    "\n",
    "Classe :"
   ]
  },
  {
   "cell_type": "raw",
   "metadata": {},
   "source": [
    "Effectuer une recherche, pour donner une définition du code ASCII, une table de conversion.\n",
    "Qu'est ce que l'unicode?\n",
    "Pourquoi utilise-t-on l'unicode de nos jours?\n",
    "\n",
    "\n",
    "Stockez vos réponses dans un fichier nommé \"codage des caractères\" sur votre clé USB."
   ]
  },
  {
   "cell_type": "markdown",
   "metadata": {
    "colab_type": "text",
    "id": "2ha2YReS1zDo"
   },
   "source": [
    "## Rappel Python\n",
    "\n",
    "**Faire afficher le code ASCII d'un caractère**\n",
    "\n",
    "l'instruction Python pour faire afficher le code ASCII d'un caractère est :\n",
    "\n",
    "\n",
    "```\n",
    "# pour le caractère \"A\"\n",
    "ord(\"A\")\n",
    "```\n",
    "\n"
   ]
  },
  {
   "cell_type": "code",
   "execution_count": 0,
   "metadata": {
    "colab": {},
    "colab_type": "code",
    "id": "yvCqOIrv2x3F"
   },
   "outputs": [],
   "source": [
    "print(ord(\"A\"))"
   ]
  },
  {
   "cell_type": "markdown",
   "metadata": {
    "colab_type": "text",
    "id": "aEZvnA0h269K"
   },
   "source": [
    "**À l'inverse :**\n",
    "\n",
    "le code :\n",
    "\n",
    "\n",
    "\n",
    "```\n",
    "chr(65)\n",
    "```\n",
    "renvoie le caractère\n",
    "\n"
   ]
  },
  {
   "cell_type": "code",
   "execution_count": 0,
   "metadata": {
    "colab": {},
    "colab_type": "code",
    "id": "9b7t37WD3K0p"
   },
   "outputs": [],
   "source": [
    "print(chr(65))"
   ]
  },
  {
   "cell_type": "markdown",
   "metadata": {
    "colab_type": "text",
    "id": "qLdkGIYt3crb"
   },
   "source": [
    "## Quelques manipulations\n",
    "\n",
    "* **Accès aux lettres d'une chaîne de caractères**\n",
    "\n",
    "Pour accéder aux lettres d'une chaîne de caractères, on procède ainsi :\n",
    "\n",
    "\n",
    "\n",
    "```\n",
    "chaine=\"ceci est une chaîne de caractères\"\n",
    "for lettre in chaine:\n",
    "  print(lettre)\n",
    "```\n",
    "\n",
    "###À faire:\n",
    "**Tester ce code**"
   ]
  },
  {
   "cell_type": "code",
   "execution_count": 0,
   "metadata": {
    "colab": {},
    "colab_type": "code",
    "id": "VUz3S3OQ4c6a"
   },
   "outputs": [],
   "source": [
    "#Écrire le code ici"
   ]
  },
  {
   "cell_type": "markdown",
   "metadata": {
    "colab_type": "text",
    "id": "kt1oTEsf4klZ"
   },
   "source": [
    "* **Stocker les lettres dans une liste**\n",
    "\n",
    "```\n",
    "chaine=\"ceci est une chaîne de caractères\"\n",
    "liste=list(chaine)\n",
    "```\n",
    "###À faire:\n",
    "**Tester ce code**"
   ]
  },
  {
   "cell_type": "code",
   "execution_count": 0,
   "metadata": {
    "colab": {},
    "colab_type": "code",
    "id": "2n3twhgp5YqA"
   },
   "outputs": [],
   "source": [
    "#Écrire le code ici"
   ]
  },
  {
   "cell_type": "markdown",
   "metadata": {
    "colab_type": "text",
    "id": "zwtTAlR57Dek"
   },
   "source": [
    "* **Stocker les codes Ascii des caractères d'une chaîne dans une liste**\n",
    "\n",
    "\n",
    "\n",
    "```\n",
    "chaine=\"ceci est une chaîne de caractères\"\n",
    "liste=[]\n",
    "for lettre in chaine:\n",
    "  liste.append(ord(lettre))\n",
    " print(liste)\n",
    "```\n",
    "###À faire\n",
    "**Tester ce code**\n"
   ]
  },
  {
   "cell_type": "code",
   "execution_count": 0,
   "metadata": {
    "colab": {},
    "colab_type": "code",
    "id": "HJhinLnn_Hvq"
   },
   "outputs": [],
   "source": [
    "#Écrire le code ici\n",
    "\n"
   ]
  },
  {
   "cell_type": "markdown",
   "metadata": {
    "colab_type": "text",
    "id": "_rwQ9eiD-9ef"
   },
   "source": [
    "* **Reconstituer le texte à partir de la liste de code ASCII**\n",
    "\n",
    "Tester le code ci-dessous"
   ]
  },
  {
   "cell_type": "code",
   "execution_count": 0,
   "metadata": {
    "colab": {},
    "colab_type": "code",
    "id": "1YYK1f8E7sLa"
   },
   "outputs": [],
   "source": [
    "\n",
    "chaine=\"ceci est une chaîne de caractères\"\n",
    "liste=[]\n",
    "for lettre in chaine:\n",
    "  liste.append(ord(lettre))\n",
    "print(liste)\n",
    "phrase=\"\"\n",
    "for lettre in liste:\n",
    "  phrase=phrase+chr(lettre)\n",
    "print(phrase)"
   ]
  },
  {
   "cell_type": "markdown",
   "metadata": {
    "colab_type": "text",
    "id": "qjTLBlma8aKD"
   },
   "source": [
    "# Objectif\n",
    "\n",
    "**Réaliser une fonction qui renvoie en majuscule le texte : \" ceci est une phrase simple\" passé en paramètre.**\n",
    "\n",
    "\n",
    "**Un constat :**\n",
    "\n",
    "```\n",
    "print(ord(\"a\"))\n",
    "print(ord(\"A\"))\n",
    "\n",
    "print(ord(\"z\"))\n",
    "print(ord(\"Z\"))\n",
    "```\n",
    "renvoie :\n",
    "\n",
    "97\n",
    "\n",
    "65\n",
    "\n",
    "122\n",
    "\n",
    "90\n",
    "\n",
    "Soit $32$ de différence\n",
    "\n",
    "**Il faudra tester si la lettre n'est pas un espace...**\n",
    "\n",
    "\n",
    "\n",
    "```\n",
    "    if lettre!=\" \":\n",
    "      ajouter le code ascii diminué de 32 à la liste\n",
    "    else:\n",
    "      simplement mettre le code ascii de l'espace dans la liste\n",
    "```\n",
    " le rendu attendu :\n",
    " \n",
    "\n",
    "```\n",
    "print(majuscule(\"ceci est une phrase simple\"))\n",
    "```\n",
    "\n",
    "affichage :  CECI EST UNE PHRASE SIMPLE"
   ]
  },
  {
   "cell_type": "code",
   "execution_count": 0,
   "metadata": {
    "colab": {},
    "colab_type": "code",
    "id": "USAiATmVAyf6"
   },
   "outputs": [],
   "source": [
    "'''\n",
    "fonction qui retourne le texte \n",
    "en majuscule\n",
    "passé en paramètre\n",
    "\n",
    "'''\n",
    "\n",
    "def majuscule(phrase):\n",
    "  \n",
    "  # à compléter\n",
    "\n",
    "\n",
    "\n",
    "print(majuscule(\"ceci est une phrase simple\"))"
   ]
  },
  {
   "cell_type": "markdown",
   "metadata": {
    "colab_type": "text",
    "id": "gYb8rR-1I0jC"
   },
   "source": [
    "### Remarque:\n",
    "**Il existe une méthode spécifique pour mettre en majuscule:**\n",
    "\n",
    "\n",
    "\n",
    "```\n",
    "phrase=\"Ceci est une chaîne de caractères\"\n",
    "print(phrase.upper())\n",
    "```\n",
    " **Code à tester**\n"
   ]
  },
  {
   "cell_type": "code",
   "execution_count": 7,
   "metadata": {
    "colab": {
     "base_uri": "https://localhost:8080/",
     "height": 35
    },
    "colab_type": "code",
    "id": "F0x0YHXGJU8h",
    "outputId": "6485ca39-2965-4e48-8a4f-91bfef8f21cc"
   },
   "outputs": [
    {
     "name": "stdout",
     "output_type": "stream",
     "text": [
      "CECI EST UNE CHAÎNE DE CARACTÈRES\n"
     ]
    }
   ],
   "source": [
    "phrase=\"Ceci est une chaîne de caractères\"\n",
    "print(phrase.upper())"
   ]
  },
  {
   "cell_type": "markdown",
   "metadata": {
    "colab_type": "text",
    "id": "vBZeGDnq1fOE"
   },
   "source": [
    "**Comme vous le constatez, cette méthode tient compte des caractères accentués**\n",
    "\n",
    "Nous allons rechercer les codes ASCII des caractères accentués et de leur majuscule associée\n",
    "\n"
   ]
  },
  {
   "cell_type": "code",
   "execution_count": 0,
   "metadata": {
    "colab": {},
    "colab_type": "code",
    "id": "Df3RBlui1_fr"
   },
   "outputs": [],
   "source": [
    "car=\"à\"\n",
    "print(ord(car))\n",
    "print(ord(car.upper()))\n",
    "\n",
    "car=\"ç\"\n",
    "print(ord(car))\n",
    "print(ord(car.upper()))\n",
    "\n",
    "#etc.."
   ]
  },
  {
   "cell_type": "markdown",
   "metadata": {
    "colab_type": "text",
    "id": "AahDKrnj3-k8"
   },
   "source": [
    "**Question :** Quelle différence y-a-t'il entre une lettre accentuée et sa majuscule ?"
   ]
  },
  {
   "cell_type": "markdown",
   "metadata": {
    "colab_type": "text",
    "id": "WtS8RY1p4NAt"
   },
   "source": [
    "Répondre ici :"
   ]
  },
  {
   "cell_type": "markdown",
   "metadata": {
    "colab_type": "text",
    "id": "6WZ0r5ei4hcO"
   },
   "source": [
    "### À faire\n",
    "**Reprendre le programme de la cellule 6 et le tester avec une phrase contenant des lettres accentuées**"
   ]
  },
  {
   "cell_type": "code",
   "execution_count": 0,
   "metadata": {
    "colab": {},
    "colab_type": "code",
    "id": "o-vgSRkR4vWu"
   },
   "outputs": [],
   "source": [
    "#Écrire le code ici\n",
    "  "
   ]
  }
 ],
 "metadata": {
  "colab": {
   "collapsed_sections": [
    "2ha2YReS1zDo",
    "qLdkGIYt3crb"
   ],
   "name": "TP-Codage des caractères(1).ipynb",
   "provenance": [],
   "version": "0.3.2"
  },
  "kernelspec": {
   "display_name": "Python 3",
   "language": "python",
   "name": "python3"
  },
  "language_info": {
   "codemirror_mode": {
    "name": "ipython",
    "version": 3
   },
   "file_extension": ".py",
   "mimetype": "text/x-python",
   "name": "python",
   "nbconvert_exporter": "python",
   "pygments_lexer": "ipython3",
   "version": "3.7.1"
  }
 },
 "nbformat": 4,
 "nbformat_minor": 1
}
