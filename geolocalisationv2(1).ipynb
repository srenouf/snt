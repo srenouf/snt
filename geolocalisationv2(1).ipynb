{
  "nbformat": 4,
  "nbformat_minor": 0,
  "metadata": {
    "colab": {
      "name": "geolocalisationv2.ipynb",
      "version": "0.3.2",
      "provenance": [],
      "collapsed_sections": []
    },
    "kernelspec": {
      "display_name": "Python 3",
      "language": "python",
      "name": "python3"
    }
  },
  "cells": [
    {
      "metadata": {
        "id": "eVSY0-brxM2J",
        "colab_type": "text"
      },
      "cell_type": "markdown",
      "source": [
        "# `Atelier 4: Géolocalisation et cartographie en SNT`\n"
      ]
    },
    {
      "metadata": {
        "id": "lchcFFvPZnJw",
        "colab_type": "text"
      },
      "cell_type": "markdown",
      "source": [
        "## Attentes du programme:"
      ]
    },
    {
      "metadata": {
        "id": "gzhn3eQQZh_n",
        "colab_type": "text"
      },
      "cell_type": "markdown",
      "source": [
        "<img src=\"https://img.lght.pics/zkFj.png\" alt=\"zkFj.png\" border=\"0\" />"
      ]
    },
    {
      "metadata": {
        "id": "WmyNHF9CaJHH",
        "colab_type": "text"
      },
      "cell_type": "markdown",
      "source": [
        "L'utilisation des données EXIF se fera dans l'atelier photographie numérique."
      ]
    },
    {
      "metadata": {
        "id": "dgWwtKWho_PD",
        "colab_type": "text"
      },
      "cell_type": "markdown",
      "source": [
        "**En quoi cela nous concerne**: retour sur le texte du bo."
      ]
    },
    {
      "metadata": {
        "id": "U5hoEfgVxM2P",
        "colab_type": "text"
      },
      "cell_type": "markdown",
      "source": [
        "##Découverte de la triangulation et de la géolocalisation\n",
        "\n",
        "Appuyer sur shift + Enter dans la cellule active"
      ]
    },
    {
      "metadata": {
        "id": "fea3nN92xM2S",
        "colab_type": "text"
      },
      "cell_type": "markdown",
      "source": [
        "### Coordonnées géographiques<br>   \n",
        "\n",
        "  \n",
        "     La longitude, qui est l'angle par rapport au méridien d'origine\n",
        "     La latitude, qui est l'angle par rapport à l'équateur\n",
        "     L'élévation h par rapport au niveau de la mer\n",
        "<img src=\"https://img.lght.pics/zrUR.png\" alt=\"zrUR.png\" border=\"0\" />"
      ]
    },
    {
      "metadata": {
        "id": "KIHMUB_UjZpA",
        "colab_type": "text"
      },
      "cell_type": "markdown",
      "source": [
        "Géogébra pour bien comprendre cette notion de positionnement : [Repérage sur la Terre](https://www.geogebra.org/3d/j53tbtpe)\n",
        "\n",
        "<br>Visionnons ces vidéos pour mieux comprendre tout cela:"
      ]
    },
    {
      "metadata": {
        "id": "VZ2csE-Wkgjk",
        "colab_type": "code",
        "cellView": "both",
        "colab": {}
      },
      "cell_type": "code",
      "source": [
        "%%html\n",
        "<iframe width=\"560\" height=\"315\" src=\"https://www.youtube.com/embed/WoqpQbWdacQ\" frameborder=\"0\" allow=\"accelerometer; autoplay; encrypted-media; gyroscope; picture-in-picture\" allowfullscreen></iframe><br><br>\n",
        "\n",
        "<iframe width=\"560\" height=\"315\" src=\"https://www.youtube.com/embed/e79tSIpLiDk\" frameborder=\"0\" allow=\"accelerometer; autoplay; encrypted-media; gyroscope; picture-in-picture\" allowfullscreen></iframe>\n"
      ],
      "execution_count": 0,
      "outputs": []
    },
    {
      "metadata": {
        "id": "RFxRhImLxM2j",
        "colab_type": "text"
      },
      "cell_type": "markdown",
      "source": [
        "**Activité branchée:**<br>\n",
        ">A vous de jouer ! Créer une page html intitulée geolocalisation, que vous complèterez au fur et à mesure des séances. Il devra y avoir une partie cartographie, géolocalisation, trame nmea, openstreetmap et itinéraire.<br>Pour compléter la partie cartographie, géolocalisation, répondez à la question suivante: \n",
        ">>1. Quels sont les deux systèmes de géolocalisation?\n",
        ">>2. Trouvez les coordonnées du lieu où vous êtes.\n",
        ">>3. Travail à faire: Chercher ce qu'est une trame NMEA. N'oubliez pas les sources.\n",
        "\n",
        ">*Pour cela, cliquez sur ctrl + Entrée , pour enregistrer votre travail, cliquez sur menu puis share. Le fichier .html et le .css sont alors téléchargés dans un fichier compressé.*\n",
        "\n"
      ]
    },
    {
      "metadata": {
        "id": "F70-YuQ93YwQ",
        "colab_type": "code",
        "colab": {}
      },
      "cell_type": "code",
      "source": [
        "%%html\n",
        "<iframe src=\"https://trinket.io/embed/html/850a678202?runMode=autorun\" width=\"100%\" height=\"356\" frameborder=\"0\" marginwidth=\"0\" marginheight=\"0\" allowfullscreen></iframe>\n"
      ],
      "execution_count": 0,
      "outputs": []
    },
    {
      "metadata": {
        "id": "pPNtzJha3Tny",
        "colab_type": "text"
      },
      "cell_type": "markdown",
      "source": [
        "\n",
        "**Avtivité débranchée:**<br>\n",
        "\n",
        "   >type quizz sur la vidéo. Travail à faire: recherche : Chercher ce qu'est une trame NMEA. N'oubliez pas les sources.<br>\n",
        "\n",
        "\n",
        "\n",
        "\n",
        "\n"
      ]
    },
    {
      "metadata": {
        "id": "ULq8xzHo4v2s",
        "colab_type": "text"
      },
      "cell_type": "markdown",
      "source": [
        "**Vérification des résultats de géolocalisation:**\n",
        "   >> En utilisant : [géoportail](https://www.geoportail.gouv.fr/)\n",
        "    <br>\n",
        "   >> ou  à l'aide du programme python ci-dessous en remplaçant la ville de Toulon par la votre!<br>Ne vous laissez pas impressionner par le rectangle rose d'erreur!\n",
        "  N'oubliez pas de compléter votre trinket!"
      ]
    },
    {
      "metadata": {
        "id": "rGsUJlweTs5M",
        "colab_type": "code",
        "colab": {}
      },
      "cell_type": "code",
      "source": [
        "from geopy.geocoders import Nominatim    #on utilise une bibliothèque qui permet de récupérer les coordonnées d'une ville\n",
        "geolocator = Nominatim()\n",
        "location = geolocator.geocode(\"Toulon\")\n",
        "print(location.address)\n",
        "print(location.latitude, location.longitude)\n"
      ],
      "execution_count": 0,
      "outputs": []
    },
    {
      "metadata": {
        "id": "P9qqrY5sxM2l",
        "colab_type": "text"
      },
      "cell_type": "markdown",
      "source": [
        "### Trame NMEA & GPS                                  activité BYOD"
      ]
    },
    {
      "metadata": {
        "id": "CCp0bMfx4Q7s",
        "colab_type": "text"
      },
      "cell_type": "markdown",
      "source": [
        ">Nos GPS utilisent les ondes radios et calculent le temps que met un signal pour faire un aller et retour vers un satellite.\n",
        "Les récepteurs utilisent la norme **NMEA** (National Marine Electronics Association) pour communiquer. Il existe plus d'une trentaine de trames GPS différentes.<br>\n",
        "Exemple de trame :  **$GPGGA, 123036.000, 4850.8593, N, 00220.6853, E, 1, 9, 0.95, 68.7, M, 47.3, M, *6F** <br>\n",
        "\n",
        ">Le type d'équipement est défini par les deux caractères qui suivent le $.\n",
        "Le type de trame est défini par les caractères suivants jusqu'à la virgule. \n",
        "\n",
        ">La trame GGA est très courante car elle fait partie de celles qui sont utilisées pour connaître la position courante du récepteur GPS.Le programme limite l'étude à cette trame.\n",
        "<br>\n",
        "Explication des cette trame: <br>\n",
        ">$GxGGA      \t: Type de trame (x = A : GALLILEO ; P : GPS ; L : GLONASS ; B : BEIDOU ; N :  mixte P + L)<br>\n",
        "\n",
        "\n",
        "\n",
        "\n",
        ">>123036.000  \t: Trame envoyée à 12h30m36,000s (heure UTC)<br>\n",
        ">>4850.8593\t: Latitude **48.8476° (48+50.8593/60) décimaux** ou 48°50'51.56\" (48+50+0.8593*60)<br>\n",
        ">>N\t \t: Nord<br>\n",
        ">>00220.6853 \t: Longitude 2.3447° décimaux (002+20.6853/60) ou 2°20'41.12\" (002+20+0.6853*60)<br>\n",
        ">>E\t \t: Est<br>\n",
        ">>1            \t\t: Type de positionnement (le 1 est un positionnement GPS)<br>\n",
        ">>9           \t\t: Nombre de satellites utilisés pour calculer les coordonnées<br>\n",
        ">>0.95          \t: Précision horizontale ou HDOP (Horizontal dilution of precision)<br>\n",
        ">>68.7\t      \t: Altitude<br>\n",
        ">>M \t\t: en mètres<br>\n",
        ">>47.3\t\t: Correction de la hauteur du géoïde<br>\n",
        ">>M \t\t: en mètres<br>\n",
        ">>,,,,,0000    \t: D'autres informations peuvent être inscrites dans ces champs*<br>\n",
        ">>6F          \t\t: Somme de contrôle de parité<br>\n",
        "\n"
      ]
    },
    {
      "metadata": {
        "id": "PlLcZJq5xM2p",
        "colab_type": "text"
      },
      "cell_type": "markdown",
      "source": [
        "**Télécharger **l’application « NMEA Viewer » sur votre smartphone (Android) ou votre tablette. Vérifier, dans les paramètres de vos applications et notifications, si elle est autorisée à utiliser le GPS pour obtenir sa position et à stocker des informations. N'oubliez pas de **désactiver la géolocalisation** \n",
        "après avoir fini cette activité.\n",
        ">1. Ouvrir l’application puis cliquer sur « NMEA Enregistreur » puis démarrer l’enregistrement des trames. Vous pouvez arrêter dès que la position est stabilisée et donner un nom à votre fichier.\n",
        ">2. Revenir au menu principal puis cliquer sur « NMEA Viewer », sélectionner votre fichier et relever la dernière trame GGA du fichier.\n",
        "PS : Le professeur peut faire la démonstration si les élèves n’ont pas les moyens matériels.\n"
      ]
    },
    {
      "metadata": {
        "id": "OnJWcZPyxM2r",
        "colab_type": "text"
      },
      "cell_type": "markdown",
      "source": [
        "Appuyer sur la flèche ci-dessous, pour visualiser ce que l'on doit obtenir"
      ]
    },
    {
      "metadata": {
        "id": "K8t4diuRxu4M",
        "colab_type": "code",
        "cellView": "both",
        "colab": {}
      },
      "cell_type": "code",
      "source": [
        "%%html\n",
        "<img src=\"https://img.lght.pics/DNYU.jpg\" alt=\"DNYU.jpg\" border=\"0\" />\n",
        "<img src=\"https://img.lght.pics/DNad.png\" alt=\"DNad.png\" border=\"0\" />\n",
        "<img src=\"https://img.lght.pics/DNaf.png\"><img src=\"https://img.lght.pics/KdqH.gif\"\">\n",
        "\n"
      ],
      "execution_count": 0,
      "outputs": []
    },
    {
      "metadata": {
        "id": "Dpneq-KvEuaB",
        "colab_type": "text"
      },
      "cell_type": "markdown",
      "source": [
        "\n",
        "\n",
        "> Voici une trame NMEA:$GPGGA,123036.000,4850.8593,N,00220.6853,E,1,9,0.95,68.7,M,47.3,M,*6F<br>\n",
        ">Nous allons demander à Python de récupérer la latitude et la longitude, à vous de remplacer les ? ci-dessous\n",
        "\n"
      ]
    },
    {
      "metadata": {
        "id": "9cnMCaJJ6uWs",
        "colab_type": "code",
        "colab": {}
      },
      "cell_type": "code",
      "source": [
        "pos='$GPGGA,123036.000,4850.8593,N,00220.6853,E,1,9,0.95,68.7,M,47.3,M,*6F'\n",
        "#pos est une chaine de caractère. les éléments sont numérotés à partir de 0, ainsi pos[0]=$\n",
        "#print(pos[3:5]) affichera GG\n",
        "\n",
        "\n",
        "#latitude=int(pos[18:?])+float(pos[20:?])/60\n",
        "#longitude=int(?)\n",
        "\n",
        "print(\"la longitude vaut : \",longitude,\"latitude : \",latitude)\n",
        "\n"
      ],
      "execution_count": 0,
      "outputs": []
    },
    {
      "metadata": {
        "id": "6my70REv6QJs",
        "colab_type": "text"
      },
      "cell_type": "markdown",
      "source": [
        ">Modifiez le programme ci-dessous, en remplaçant la trame NMEA existante par celle obtenue par votre smartphone, puis tester le programme.<br>\n",
        ">Copiez les lignes de votre programme dans le trinket-ci-dessus."
      ]
    },
    {
      "metadata": {
        "id": "dcDMOW_EpjtV",
        "colab_type": "text"
      },
      "cell_type": "markdown",
      "source": [
        "## Cartographie"
      ]
    },
    {
      "metadata": {
        "id": "XnfyPQoasGWn",
        "colab_type": "text"
      },
      "cell_type": "markdown",
      "source": [
        "**Openstreetmap: activité à faire à la maison**"
      ]
    },
    {
      "metadata": {
        "id": "pxkBFAGeq6aE",
        "colab_type": "text"
      },
      "cell_type": "markdown",
      "source": [
        ">Découvrir openstreetmap : en cliquant sur ce lien, [pixees](https://pixees.fr/informatiquelycee/n_site/snt_carto_osm.html), à vous de faire cette série d'activité pour découvrir, participer et expliquer par un exposé ou une page html le principe et l'utilisation d'OSM."
      ]
    },
    {
      "metadata": {
        "id": "4roeEV14sPJO",
        "colab_type": "text"
      },
      "cell_type": "markdown",
      "source": [
        "**Python & les cartes**"
      ]
    },
    {
      "metadata": {
        "id": "ChU_EivIuHL-",
        "colab_type": "text"
      },
      "cell_type": "markdown",
      "source": [
        ">Pour personnaliser des cartes avec Python ,nous avons plusieurs possibilités, par exemple, la bibliothèque cartopy avec matplotlib, nous permet d'obtenir ceci en cliquant sur la flèche."
      ]
    },
    {
      "metadata": {
        "id": "7zE27h5tMYdj",
        "colab_type": "code",
        "colab": {}
      },
      "cell_type": "code",
      "source": [
        "!apt-get -qq install python-cartopy python3-cartopy #récupération de cartopy\n",
        "import cartopy\n",
        "import cartopy.crs as ccrs\n",
        "import matplotlib.pyplot as plt\n",
        "ax = plt.axes(projection=ccrs.PlateCarree())\n",
        "ax.coastlines()\n",
        "plt.show()"
      ],
      "execution_count": 0,
      "outputs": []
    },
    {
      "metadata": {
        "id": "As_lGwqsv1Xp",
        "colab_type": "text"
      },
      "cell_type": "markdown",
      "source": [
        ">Changer la cinquième en ligne en *ax = plt.axes(projection=ccrs.Mollweide())*<br>\n",
        ">Que se passe-t-il?<br>\n",
        "\n",
        ">Nous allons utiliser une bibliothèque plus simple d'utilisation!"
      ]
    },
    {
      "metadata": {
        "id": "HuEurl-GW7KA",
        "colab_type": "text"
      },
      "cell_type": "markdown",
      "source": [
        ">Pour tracer et personnaliser une carte en utilisant python: on va utiliser le module folium. **Folium va utiliser les cartes d'openstreetmap**.<br> A vous de jouer, cliquez sur la flèche et indiquez les coordonnées du lieu où vous vous trouvez!\n"
      ]
    },
    {
      "metadata": {
        "id": "ZnQ_3dAgUrli",
        "colab_type": "code",
        "colab": {}
      },
      "cell_type": "code",
      "source": [
        "import folium\n",
        "lat=float(input(\"latitude \"))\n",
        "lon=float(input(\"longitude \"))\n",
        "map_osm = folium.Map(location=[lat,lon],zoom_start=5)\n",
        "folium.Marker([lat,lon]).add_to(map_osm)\n",
        "map_osm\n",
        "\n"
      ],
      "execution_count": 0,
      "outputs": []
    },
    {
      "metadata": {
        "id": "KgLlYV1vc-44",
        "colab_type": "text"
      },
      "cell_type": "markdown",
      "source": [
        "Rappel pour obtenir les coordonnées d'une ville, on peut utiliser le programme ci-dessous:\n"
      ]
    },
    {
      "metadata": {
        "id": "pWw0bt0tZ7Ss",
        "colab_type": "code",
        "colab": {}
      },
      "cell_type": "code",
      "source": [
        "from geopy.geocoders import Nominatim\n",
        "geolocator = Nominatim()\n",
        "location = geolocator.geocode(\"Toulon\")\n",
        "print(location.address)\n",
        "print(location.latitude, location.longitude)\n",
        "lat=str(location.latitude)\n",
        "lon=str(location.longitude)"
      ],
      "execution_count": 0,
      "outputs": []
    },
    {
      "metadata": {
        "id": "SB2H73SAgVnu",
        "colab_type": "text"
      },
      "cell_type": "markdown",
      "source": [
        "Marquage de plusieurs lieux: testez le code ci-dessous, puis changer le point de départ et le point d'arrivée"
      ]
    },
    {
      "metadata": {
        "id": "5BVAsEknY6-O",
        "colab_type": "code",
        "outputId": "22f72388-0fc3-4389-8a0d-2268570a9181",
        "colab": {
          "base_uri": "https://localhost:8080/",
          "height": 793
        }
      },
      "cell_type": "code",
      "source": [
        "from geopy.geocoders import Nominatim\n",
        "import folium\n",
        "geolocator = Nominatim()\n",
        "location1 = geolocator.geocode(\"Nice\")\n",
        "location2 = geolocator.geocode(\"La seyne sur mer\")\n",
        "\n",
        "lat1=location1.latitude\n",
        "lon1=location1.longitude\n",
        "lat2=location2.latitude\n",
        "lon2=location2.longitude\n",
        "\n",
        "c= folium.Map(location=[lat1, lon1],zoom_start=5)\n",
        "folium.Marker([lat1,  lon1],popup=\"Nice\").add_to(c)\n",
        "folium.Marker([lat2,  lon2],popup=\"La seyne sur mer\").add_to(c)\n",
        "c"
      ],
      "execution_count": 0,
      "outputs": [
        {
          "output_type": "stream",
          "text": [
            "/usr/local/lib/python3.6/dist-packages/geopy/geocoders/osm.py:143: UserWarning: Using Nominatim with the default \"geopy/1.17.0\" `user_agent` is strongly discouraged, as it violates Nominatim's ToS https://operations.osmfoundation.org/policies/nominatim/ and may possibly cause 403 and 429 HTTP errors. Please specify a custom `user_agent` with `Nominatim(user_agent=\"my-application\")` or by overriding the default `user_agent`: `geopy.geocoders.options.default_user_agent = \"my-application\"`. In geopy 2.0 this will become an exception.\n",
            "  UserWarning\n"
          ],
          "name": "stderr"
        },
        {
          "output_type": "execute_result",
          "data": {
            "text/html": [
              "<div style=\"width:100%;\"><div style=\"position:relative;width:100%;height:0;padding-bottom:60%;\"><iframe src=\"data:text/html;charset=utf-8;base64,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\" style=\"position:absolute;width:100%;height:100%;left:0;top:0;border:none !important;\" allowfullscreen webkitallowfullscreen mozallowfullscreen></iframe></div></div>"
            ],
            "text/plain": [
              "<folium.folium.Map at 0x7f7328628940>"
            ]
          },
          "metadata": {
            "tags": []
          },
          "execution_count": 5
        }
      ]
    },
    {
      "metadata": {
        "id": "ruzLXJLIpsac",
        "colab_type": "text"
      },
      "cell_type": "markdown",
      "source": [
        "##Itinéraires"
      ]
    },
    {
      "metadata": {
        "id": "DrX1IzVosl8V",
        "colab_type": "text"
      },
      "cell_type": "markdown",
      "source": [
        "Pour obtenir le \"meilleur\" itinéraire, on va pour voir utiliser la théorie des graphes et l'algorithme de DIJKSTRA, dont nous allons juste faire une présentation à l'aide de la vidéo ci-dessous:"
      ]
    },
    {
      "metadata": {
        "id": "36ucUYK96x_0",
        "colab_type": "code",
        "colab": {}
      },
      "cell_type": "code",
      "source": [
        "#Algorithme de DIJKSTRA\n",
        "%%html\n",
        "<iframe width=\"560\" height=\"315\" src=\"https://www.youtube.com/embed/JPeCmKFrKio\" frameborder=\"0\" allow=\"accelerometer; autoplay; encrypted-media; gyroscope; picture-in-picture\" allowfullscreen></iframe>\n"
      ],
      "execution_count": 0,
      "outputs": []
    },
    {
      "metadata": {
        "id": "Y2i3RP7C6yii",
        "colab_type": "text"
      },
      "cell_type": "markdown",
      "source": [
        "**Exercice**<br>\n",
        "<img src=\"https://img.lght.pics/zJnp.jpg\" alt=\"zJnp.jpg\" border=\"0\" />"
      ]
    },
    {
      "metadata": {
        "id": "QiSKk7NA8c3h",
        "colab_type": "text"
      },
      "cell_type": "markdown",
      "source": [
        ">>>>>>>>Solution :[academie-en-ligne](http://www.academie-en-ligne.fr/Ressources/7/MA04/AL7MA04TEPA0013-Sequence-03.pdf) page7\n",
        "\n",
        "Pour d'autres exercices: Annales de Bac ES spécialité Maths [Bac ES](https://www.apmep.fr/-Terminale-ES-327-sujets-tous-)\n",
        "\n",
        "\n",
        "\n"
      ]
    },
    {
      "metadata": {
        "id": "8jcL27aD-JWV",
        "colab_type": "text"
      },
      "cell_type": "markdown",
      "source": [
        "**Python **: tester le code ci-dessous. Que fait-il? Expliquez ce que vous constatez."
      ]
    },
    {
      "metadata": {
        "id": "NM2mxMaLZFGB",
        "colab_type": "code",
        "colab": {}
      },
      "cell_type": "code",
      "source": [
        "! pip install pyroutelib3\n",
        "from pyroutelib3 import Router\n",
        "from geopy.geocoders import Nominatim\n",
        "geolocator = Nominatim()\n",
        "\n",
        "location1 = geolocator.geocode(\"Toulon\")\n",
        "location2 = geolocator.geocode(\"La seyne sur mer\")\n",
        "\n",
        "lat1=location1.latitude\n",
        "lon1=location1.longitude\n",
        "lat2=location2.latitude\n",
        "lon2=location2.longitude\n",
        "\n",
        "\n",
        "\n",
        "router = Router(\"car\")\n",
        "\n",
        "depart = router.findNode(lat1, lon1)\n",
        "arrivee = router.findNode(lat2,  lon2)\n",
        "\n",
        "status, route = router.doRoute(depart, arrivee)\n",
        "\n",
        "if status == 'success':\n",
        "    routeLatLons = list(map(router.nodeLatLon, route))\n",
        "routeLatLons"
      ],
      "execution_count": 0,
      "outputs": []
    },
    {
      "metadata": {
        "id": "4CqqYWaq5twC",
        "colab_type": "text"
      },
      "cell_type": "markdown",
      "source": [
        "A vous de tester maintenant ce petit rajout de code! Expliquer le résultat."
      ]
    },
    {
      "metadata": {
        "id": "dIs8Ub0I_YT4",
        "colab_type": "code",
        "colab": {}
      },
      "cell_type": "code",
      "source": [
        "from geopy.geocoders import Nominatim\n",
        "import folium\n",
        "geolocator = Nominatim()\n",
        "location1 = geolocator.geocode(\"Toulon\")\n",
        "location2 = geolocator.geocode(\"La seyne sur mer\")\n",
        "\n",
        "lat1=location1.latitude\n",
        "lon1=location1.longitude\n",
        "lat2=location2.latitude\n",
        "lon2=location2.longitude\n",
        "\n",
        "c= folium.Map(location=[lat1, lon1],zoom_start=12)\n",
        "folium.Marker([lat1,  lon1],popup=\"Toulon\").add_to(c)\n",
        "folium.Marker([lat2,  lon2],popup=\"La seyne sur mer\").add_to(c)\n",
        "\n",
        "for coord in routeLatLons:\n",
        "  coord=list(coord)\n",
        "  folium.Marker(coord).add_to(c)\n",
        "c"
      ],
      "execution_count": 0,
      "outputs": []
    },
    {
      "metadata": {
        "id": "rnGY2CmhDd28",
        "colab_type": "text"
      },
      "cell_type": "markdown",
      "source": [
        "On peut changer l'option \"car\" par  cycle, foot, horse, tram, train. Essayer avec foot puis train!\n"
      ]
    },
    {
      "metadata": {
        "id": "iLYolBEZ4SJu",
        "colab_type": "text"
      },
      "cell_type": "markdown",
      "source": [
        "### Pour aller plus loin dans la discussion<br>\n",
        "La géolocalisation est-elle tout à fait sûre?  \n",
        "Un élément de réponse : [article de zdnet](https://www.zdnet.fr/actualites/un-rapport-designe-la-russie-comme-un-pionnier-des-attaques-d-usurpation-gps-39882759.htm)"
      ]
    },
    {
      "metadata": {
        "id": "3daeZpsmA3w4",
        "colab_type": "text"
      },
      "cell_type": "markdown",
      "source": [
        "Stephane Renouf, lycée Beaussier"
      ]
    }
  ]
}