{
  "nbformat": 4,
  "nbformat_minor": 0,
  "metadata": {
    "colab": {
      "name": "Photographie Numérique",
      "provenance": [],
      "collapsed_sections": [],
      "toc_visible": true,
      "include_colab_link": true
    },
    "kernelspec": {
      "name": "python3",
      "display_name": "Python 3"
    }
  },
  "cells": [
    {
      "cell_type": "markdown",
      "metadata": {
        "id": "view-in-github",
        "colab_type": "text"
      },
      "source": [
        "<a href=\"https://colab.research.google.com/github/srenouf/snt/blob/master/Photographie_Num%C3%A9rique.ipynb\" target=\"_parent\"><img src=\"https://colab.research.google.com/assets/colab-badge.svg\" alt=\"Open In Colab\"/></a>"
      ]
    },
    {
      "cell_type": "markdown",
      "metadata": {
        "id": "9-9f8p9LhTLG",
        "colab_type": "text"
      },
      "source": [
        "#<center><h1>Photographie Numérique : Cadrage Historique</h1></center>\n",
        "\n",
        "\n",
        "##En utilisant le site [frisechronos](http://www.frisechronos.fr), compléter la frise suivante:\n",
        "\n",
        "<img src=\"http://www.frisechronos.fr/H5PdfFiles/46a6c7a0-2c38-4878-bf8c-e09df5f578da.png\">\n",
        "\n",
        "Pour cela, vous devrez effectuer des recherches, et insérer des photos. N'oubliez pas les sources"
      ]
    },
    {
      "cell_type": "markdown",
      "metadata": {
        "id": "vDxaBzsPiLmM",
        "colab_type": "text"
      },
      "source": [
        "<h1>Vidéos introductives</h1>\n",
        "\n",
        "\n",
        "\n",
        "<iframe width=\"560\" height=\"315\" src=\"https://www.youtube.com/embed/UnNPNc-F9ks\" frameborder=\"0\" allow=\"accelerometer; autoplay; encrypted-media; gyroscope; picture-in-picture\" allowfullscreen></iframe>"
      ]
    },
    {
      "cell_type": "code",
      "metadata": {
        "id": "QcPBoEwujv1_",
        "colab_type": "code",
        "colab": {
          "base_uri": "https://localhost:8080/",
          "height": 336
        },
        "outputId": "bb5f0c65-7e71-419d-8983-a8ac08a445b8"
      },
      "source": [
        "#@title MOOC SNT { display-mode: \"form\" }\n",
        "%%html\n",
        "<iframe width=\"560\" height=\"315\" src=\"https://www.youtube.com/embed/UnNPNc-F9ks\" frameborder=\"0\" allow=\"accelerometer; autoplay; encrypted-media; gyroscope; picture-in-picture\" allowfullscreen></iframe>"
      ],
      "execution_count": 5,
      "outputs": [
        {
          "output_type": "display_data",
          "data": {
            "text/html": [
              "<iframe width=\"560\" height=\"315\" src=\"https://www.youtube.com/embed/UnNPNc-F9ks\" frameborder=\"0\" allow=\"accelerometer; autoplay; encrypted-media; gyroscope; picture-in-picture\" allowfullscreen></iframe>"
            ],
            "text/plain": [
              "<IPython.core.display.HTML object>"
            ]
          },
          "metadata": {
            "tags": []
          }
        }
      ]
    },
    {
      "cell_type": "markdown",
      "metadata": {
        "id": "0Hj0fkxPs6x3",
        "colab_type": "text"
      },
      "source": [
        "Qu'avez-vous retenue de cette vidéo?\n"
      ]
    },
    {
      "cell_type": "markdown",
      "metadata": {
        "id": "N4YUdC0ZlOFN",
        "colab_type": "text"
      },
      "source": [
        "#<h1><img src=\"https://thumbs.dreamstime.com/z/prise-%C3%A9lectrique-d%C3%A9branch%C3%A9e-de-prise-87762673.jpg\" width=\"80\">Une matrice de points : le pixel art <img src=\"https://thumbs.dreamstime.com/z/prise-%C3%A9lectrique-d%C3%A9branch%C3%A9e-de-prise-87762673.jpg\" width=\"80\"></h1>\n",
        "\n",
        "Activité en binôme: chaque élève exécute l’exercice simultanément. Dans un premier temps, les deux élèves réalisent une forme simple dans un quadrillage de 10 carreaux par 10 carreaux.\n",
        "Ils convertissent ensuite leur dessin en fonction du code suivant : 0 pour une case blanche, 1 pour une case noire, puis ils rédigent une suite de 100 chiffres binaires sans interruption, signe distinctif ou retour à la ligne volontaire. Chaque élève découpe ensuite la partie codée et l’échange avec celle de son binôme, lequel doit reconstruire le dessin de l’autre (dans le tableau n°2) en fonction des valeurs indiquées dans la suite binaire. On comparera le résultat de chaque dessin avec son modèle original\n"
      ]
    },
    {
      "cell_type": "markdown",
      "metadata": {
        "id": "DZS_holEOSw1",
        "colab_type": "text"
      },
      "source": [
        "<center><H1>Pixellisation et traitement de l'image</H1></center>\n",
        "<h2>Attentes du programme</h2>\n",
        "<center><img src=\"https://img.lght.pics/zW9G.jpg\" alt=\"zW9G.jpg\" border=\"0\" width=\"800\"></center>\n",
        "  <br>\n",
        "  <h2>Découverte d'une matrice LED</h2>\n",
        "  <br>\n",
        "\n",
        "  <img class=left src=\"https://proxima.cnes.fr/sites/default/files/styles/wysiwyg_popup/public/drupal/201609/image/prx_astro_pi_logo_web.png?itok=nFfxAUeM\" width=\"100\"> Le Sense HAT est une carte additionnelle du Raspberry Pi . Elle ajoute la capacité de détecter toutes sortes d’informations en utilisant une matrice de LED et faigt partie du projet Astropi.  On a la possibilité de l’utiliser en réel ou à l’aide d’un émulateur."
      ]
    },
    {
      "cell_type": "markdown",
      "metadata": {
        "id": "oVKn-wMAnsdM",
        "colab_type": "text"
      },
      "source": [
        "Pour ceux ne disposant pas d'une salle internet, flashez à l'aide la tablette le QR code suivant:<br>\n",
        "<a href='https://www.unitag.io/qrcode'><img src='https://www.unitag.io/qreator/generate?crs=xnjFkEn%252FP85fCPDXJ%252FXXKnPnKU%252FtWVh9E7ei8Ex%252BR4XsTvus59MiRl4OtJ5Y%252F3aRXopA7Qn4wJ6m3qLfsP4IWv39ocSd3mMczmj1AuyiW6K%252F58n8n8s5NK61vAUi6GUR9QhYs1xUoNWG3PC4owAgU1Q%252FHThW3FIfdeEUqZ%252BlJgc%253D&crd=fhOysE0g3Bah%252BuqXA7NPQ8sU7tvh%252FYxiqlgYVI%252BoQwkVQtAl6usCCc3RvFfOHW9TbAl9CaPxXatV078blLXeytI0La%252BCwx7SX7i0eZeL0m4%253D' alt='QR Code'/></a>"
      ]
    },
    {
      "cell_type": "code",
      "metadata": {
        "id": "YKVwGa2mUYLy",
        "colab_type": "code",
        "colab": {
          "base_uri": "https://localhost:8080/",
          "height": 377
        },
        "outputId": "a1cec894-11a9-49ac-e754-e5418ed74085"
      },
      "source": [
        "%%html\n",
        "<iframe src=\"https://trinket.io/embed/python/91de272f38\" width=\"100%\" height=\"356\" frameborder=\"0\" marginwidth=\"0\" marginheight=\"0\" allowfullscreen></iframe>"
      ],
      "execution_count": 7,
      "outputs": [
        {
          "output_type": "display_data",
          "data": {
            "text/html": [
              "<iframe src=\"https://trinket.io/embed/python/91de272f38\" width=\"100%\" height=\"356\" frameborder=\"0\" marginwidth=\"0\" marginheight=\"0\" allowfullscreen></iframe>"
            ],
            "text/plain": [
              "<IPython.core.display.HTML object>"
            ]
          },
          "metadata": {
            "tags": []
          }
        }
      ]
    },
    {
      "cell_type": "markdown",
      "metadata": {
        "id": "_A9-I1dNT4f6",
        "colab_type": "text"
      },
      "source": [
        "Utilisons l'émulateur trinket, en tapant shift Entrée dans la cellule ci-dessous. Effacer toutes les lignes, puis tapez les lignes ci-dessous. Appuyer sur Stop, puis sur Run. Notez ce qui se passe dans un fichier nommé pixellisation.\n",
        "\n",
        "<img src=\"https://img.lght.pics/zWqE.png\" alt=\"zWqE.png\" border=\"0\" />"
      ]
    },
    {
      "cell_type": "markdown",
      "metadata": {
        "id": "CyBZMn_CWadn",
        "colab_type": "text"
      },
      "source": [
        "<h2> Découverte du fonctionnement d'un écran LED  </h2>\n",
        "La matrice de LED contient 64 LED multicolores. Chacune d’elle est constituée de trois LED plus petites : une rouge, une verte et une bleue.\n",
        "<h3><img src=\"https://thumbs.dreamstime.com/z/prise-%C3%A9lectrique-d%C3%A9branch%C3%A9e-de-prise-87762673.jpg\" width=\"80\">Comprendre le mélange des couleurs<img src=\"https://thumbs.dreamstime.com/z/prise-%C3%A9lectrique-d%C3%A9branch%C3%A9e-de-prise-87762673.jpg\" width=\"80\"></h3>\n",
        "\n",
        "\n",
        ">1.  Selon le principe du mélange de couleurs additif, les couleurs rouge, vert et bleu sont utilisées pour obtenir les autres couleurs. On les appelle les trois couleurs primaires additives.<br>\n",
        "<img src=\"https://encrypted-tbn0.gstatic.com/images?q=tbn:ANd9GcRV2aGhVmMh9d3pQqE0mpbW-o5CX1sPf7bZfoMyoySfmdmP2vIQew\">\n",
        "Cette figure contient 3 disques présentant la même luminosité, un pour chaque couleur.  En l’absence de couleur, le résultat est noir.<br>a) Quelles combinaisons de deux couleurs produisent une couleur ? Identifiez-les en complétant votre fichier.\n",
        "<br><br><br>b) Quel est le résultat de l'ajout des trois couleurs primaires ? Compléter votre fichier.<br><br><br>\n",
        ">2. On peut obtenir plus de couleurs que celles de la figure 4, en faisant varier la luminosité des trois couleurs d’origine utilisées. Saisissez le code ci-dessous dans le trinket précédent.<br> <img src=\"https://img.lght.pics/zWqr.png\" alt=\"zWqr.png\" border=\"0\" /><br> Appuyez sur Run. Notez ce qui se passe dans votre fichier.\n"
      ]
    },
    {
      "cell_type": "markdown",
      "metadata": {
        "id": "k249xcXyZNNF",
        "colab_type": "text"
      },
      "source": [
        ">3.<img src=\"https://thumbs.dreamstime.com/z/prise-%C3%A9lectrique-d%C3%A9branch%C3%A9e-de-prise-87762673.jpg\" width=\"80\">  Les variables r, g et b représentent les couleurs rouge, vert et bleu. Les nombres qu’elles contiennent spécifient la luminosité de chaque couleur ; elle varie de 0 à 255. Dans le code ci-dessus, la valeur maximale (255) pour chaque couleur a été utilisée. Changez les valeurs pour spécifier 255 red (255 rouge) mais 0 green (0 vert) et 0 blue (0 bleu), puis exécutez de nouveau le code. Quelles autres couleurs pouvez-vous faire ? A vous de jouer ! Combien de couleurs différentes obtient-on ? Notez vos résultats dans votre fichier.<br><br><br><br>"
      ]
    },
    {
      "cell_type": "markdown",
      "metadata": {
        "id": "_4MYNSKfZtzM",
        "colab_type": "text"
      },
      "source": [
        ">4. Utilisez le trinket précédent, effacez les lignes et tapez ceci <br><img src=\"https://img.lght.pics/zWqs.png\" alt=\"zWqs.png\" border=\"0\" /><br>Notez ce qui se passe dans votre fichier."
      ]
    },
    {
      "cell_type": "markdown",
      "metadata": {
        "id": "JrVT4PzCaMSK",
        "colab_type": "text"
      },
      "source": [
        "<h3>Affichage d'images</h3>\n",
        "Un **pixel **: c’est un petit élément d’une surface de visualisation dans une image numérique.  Chaque pixel de votre écran est constitué de trois sous-pixels (rouge, vert et bleu).  C’est de cette façon que fonctionnent tous les écrans d’ordinateur et de smartphone.<br> <img src=\"https://upload.wikimedia.org/wikipedia/commons/d/de/Closeup_of_pixels.JPG\" width=\"250\"><br>\n",
        ">1. Pour allumer un pixel on utiliser la commande s.set_pixel(x,y,r,g,b). En utilisant le trinket ci-dessous, tapez et  compléter le code ci-dessous pour allumer le pixel(0,0) en rouge. <br><img src=\"https://img.lght.pics/zWyf.png\" alt=\"zWyf.png\" border=\"0\" />"
      ]
    },
    {
      "cell_type": "code",
      "metadata": {
        "id": "hXDIVbbkbfDW",
        "colab_type": "code",
        "colab": {}
      },
      "source": [
        "%%html\n",
        "<iframe src=\"https://trinket.io/embed/python/91de272f38\" width=\"100%\" height=\"356\" frameborder=\"0\" marginwidth=\"0\" marginheight=\"0\" allowfullscreen></iframe>"
      ],
      "execution_count": 0,
      "outputs": []
    },
    {
      "cell_type": "markdown",
      "metadata": {
        "id": "EUQ3khoqcbl8",
        "colab_type": "text"
      },
      "source": [
        ">2. Les variables « x » et « y » sont utilisées pour contrôler la LED que la commande set_pixel doit changer. x correspond à l'abscisse et varie de 0 à 7 de gauche à droite. y correspond à l'ordonnée et varie de 0 à 7 de haut en bas.  Si on saisit le code suivant dans une nouvelle fenêtre, colorez la matrice qui s’affichera.<br>\n",
        "<img src=\"https://img.lght.pics/zWyy.png\" alt=\"zWyy.png\" border=\"0\">\n",
        "<img src=\"https://img.lght.pics/zWyq.png\" alt=\"zWyq.png\" border=\"0\">"
      ]
    },
    {
      "cell_type": "markdown",
      "metadata": {
        "id": "11J8VJLCdMJq",
        "colab_type": "text"
      },
      "source": [
        ">3. Pixelliser ce logo , en utilisant la grille ci-dessous. La couleur d’un carré doit correspondre à la couleur dominante du carré individuel qui compose l'image. Écrivez le code qui va vous permettre d’afficher l’image sur la matrice de LED. <br>\n",
        "<img src=\"https://img.lght.pics/zW3Z.jpg\" alt=\"zW3Z.jpg\" border=\"0\" />"
      ]
    },
    {
      "cell_type": "markdown",
      "metadata": {
        "id": "7hITfnelp1Jb",
        "colab_type": "text"
      },
      "source": [
        "#<h1> Comprendre le fonctionnement des capteurs d'un appareil photographique</h1>"
      ]
    },
    {
      "cell_type": "markdown",
      "metadata": {
        "id": "tNgCePEUd8km",
        "colab_type": "text"
      },
      "source": [
        "#<H1> Manipuler et traîter une image </H1>\n",
        "Pour utiliser ce notebook, vous pouvez scanner le QR code!"
      ]
    },
    {
      "cell_type": "code",
      "metadata": {
        "id": "V1ilPEA-eFcY",
        "colab_type": "code",
        "colab": {
          "base_uri": "https://localhost:8080/",
          "height": 35
        },
        "outputId": "d344251f-d072-4880-f3f7-75c7dae1693a"
      },
      "source": [
        "!pip install pillow\n",
        "from PIL import Image\n",
        "from IPython.display import HTML\n",
        "from io import BytesIO\n",
        "import requests"
      ],
      "execution_count": 8,
      "outputs": [
        {
          "output_type": "stream",
          "text": [
            "Requirement already satisfied: pillow in /usr/local/lib/python3.6/dist-packages (6.2.2)\n"
          ],
          "name": "stdout"
        }
      ]
    },
    {
      "cell_type": "markdown",
      "metadata": {
        "id": "I4Y2I_edepyo",
        "colab_type": "text"
      },
      "source": [
        "Tester le code ci dessous et noter le résultat de l'affichage dans votre fichier réponse. Interprétez ce résultat."
      ]
    },
    {
      "cell_type": "code",
      "metadata": {
        "id": "ZinqIAUq4nHC",
        "colab_type": "code",
        "colab": {}
      },
      "source": [
        "#fifty shades of yoda\n",
        "r = requests.get('https://img.lght.pics/zW9k.jpg')  #on télécharge l'image\n",
        "im1=Image.open(BytesIO(r.content))\n",
        "largeur,hauteur=im1.size\n",
        "print(largeur)\n",
        "print(hauteur)\n",
        "pixels=largeur*hauteur\n",
        "print(pixels)\n",
        "im1"
      ],
      "execution_count": 0,
      "outputs": []
    },
    {
      "cell_type": "markdown",
      "metadata": {
        "id": "0o_iYhJ1fVYk",
        "colab_type": "text"
      },
      "source": [
        "Nous allons transformer l’image en niveau de gris** pixels par pixels**. Pour cela nous allons utiliser :\n",
        "**getpixel((x,y))** renvoie la couleur du pixel de coordonnées (x,y) sous la forme d’une liste (R,G,B)<br>\n",
        "**putpixel((x,y),couleur)** attribue la couleur au pixel de coordonnées (x,y). Testez ceci\n"
      ]
    },
    {
      "cell_type": "code",
      "metadata": {
        "id": "Fq6pzE5_e-Ew",
        "colab_type": "code",
        "colab": {}
      },
      "source": [
        "#fifty shades of yoda\n",
        "for x in range(largeur):\n",
        "  for y in range(hauteur):\n",
        "    pixel=im1.getpixel((x,y))\n",
        "    m=(pixel[0]+pixel[1]+pixel[2])//3 #Que fait-on dans cette ligne? Notez cela dans votre fichier réponse\n",
        "    newpixel=(m,m,m)\n",
        "    im1.putpixel((x,y),newpixel)\n",
        "im1"
      ],
      "execution_count": 0,
      "outputs": []
    },
    {
      "cell_type": "markdown",
      "metadata": {
        "id": "24ZvWggdf7Cg",
        "colab_type": "text"
      },
      "source": [
        "On a modifié le programme, tester le! Que se passe-t-il? Notez cela dans votre fichier réponse.\n",
        "\n"
      ]
    },
    {
      "cell_type": "code",
      "metadata": {
        "id": "0e30QzKff6g8",
        "colab_type": "code",
        "colab": {}
      },
      "source": [
        "for x in range(largeur):\n",
        "  for y in range(hauteur):\n",
        "    pixel=im1.getpixel((x,y))\n",
        "    newpixel=(pixel[0],pixel[1],255)\n",
        "    im1.putpixel((x,y),newpixel)\n",
        "im1"
      ],
      "execution_count": 0,
      "outputs": []
    },
    {
      "cell_type": "markdown",
      "metadata": {
        "id": "_LE9AXhcg0hO",
        "colab_type": "text"
      },
      "source": [
        "\n",
        "On dira que l’image est saturée en ….\n",
        "A vous de jouer : modifier votre programme pour saturer en vert, puis en rouge. Notez les changements effectués dans le fichier réponse."
      ]
    },
    {
      "cell_type": "markdown",
      "metadata": {
        "id": "eIjdJS31iuj8",
        "colab_type": "text"
      },
      "source": [
        "<h3>Photomaton pour les élèves ayant fini...</h3><br><img src=\"https://img.lght.pics/zWmL.jpg\" alt=\"zWmL.jpg\" border=\"0\" /><br> Testez et commentez ce programme."
      ]
    },
    {
      "cell_type": "code",
      "metadata": {
        "id": "Ol0HArOAhlpS",
        "colab_type": "code",
        "colab": {}
      },
      "source": [
        "r = requests.get('https://img.lght.pics/zW9k.jpg')  #on télécharge l'image\n",
        "im1=Image.open(BytesIO(r.content))\n",
        "l,h=im1.size\n",
        "newimg=Image.new(im1.mode, im1.size)\n",
        "for y in range(h):\n",
        "  for x in range(l):\n",
        "    couleur = im1.getpixel((x,y))\n",
        "    if x%2==0 and y%2==0:  # x et y sont pairs\n",
        "      newimg.putpixel((x//2,y//2),couleur)\n",
        "    elif x%2==0:           # Expliquez et commentez cette ligne\n",
        "      newimg.putpixel((x//2,h//2+y//2),couleur)\n",
        "    elif y%2==0:           # Expliquez et commentez cette ligne\n",
        "      newimg.putpixel((l//2+x//2,y//2),couleur)\n",
        "    else:                  # Expliquez et commentez cette ligne\n",
        "      newimg.putpixel((l//2+x//2,h//2+y//2),couleur)\n",
        "newimg"
      ],
      "execution_count": 0,
      "outputs": []
    },
    {
      "cell_type": "markdown",
      "metadata": {
        "id": "oKgiRSFSi_73",
        "colab_type": "text"
      },
      "source": [
        "<H3>Challenge : Pop Art</H3>\n",
        "Modifiez le code ci-dessus pour obtenir un effet à la Warrohl!<br><br><br><br>"
      ]
    },
    {
      "cell_type": "markdown",
      "metadata": {
        "id": "pGAV06eNjWYJ",
        "colab_type": "text"
      },
      "source": [
        "Stéphane Renouf, lycée Beaussier"
      ]
    },
    {
      "cell_type": "markdown",
      "metadata": {
        "id": "7bQbpK4jsCl4",
        "colab_type": "text"
      },
      "source": [
        "# Notion de données EXIF : traîter éventuellement avec un autre domaine : cartographie, géolocalisation."
      ]
    },
    {
      "cell_type": "code",
      "metadata": {
        "id": "sfq7fr4Rw8Gx",
        "colab_type": "code",
        "colab": {
          "base_uri": "https://localhost:8080/",
          "height": 1000
        },
        "cellView": "form",
        "outputId": "aca50b3e-2160-4827-f82f-a19c72c0193b"
      },
      "source": [
        "#@title Evaluation\n",
        "%%html\n",
        "<iframe src=\"https://docs.google.com/forms/d/e/1FAIpQLSdwvPS8JxYMDf1DhqA1okACmx3QM-htCvULUTSCWLwetH8urA/viewform?embedded=true\" width=\"640\" height=\"990\" frameborder=\"0\" marginheight=\"0\" marginwidth=\"0\">Chargement…</iframe>"
      ],
      "execution_count": 10,
      "outputs": [
        {
          "output_type": "display_data",
          "data": {
            "text/html": [
              "<iframe src=\"https://docs.google.com/forms/d/e/1FAIpQLSdwvPS8JxYMDf1DhqA1okACmx3QM-htCvULUTSCWLwetH8urA/viewform?embedded=true\" width=\"640\" height=\"990\" frameborder=\"0\" marginheight=\"0\" marginwidth=\"0\">Chargement…</iframe>"
            ],
            "text/plain": [
              "<IPython.core.display.HTML object>"
            ]
          },
          "metadata": {
            "tags": []
          }
        }
      ]
    },
    {
      "cell_type": "code",
      "metadata": {
        "id": "5Ut8o70Pwd8n",
        "colab_type": "code",
        "colab": {
          "base_uri": "https://localhost:8080/",
          "height": 1000
        },
        "outputId": "0f791e9c-0531-443d-99c2-4e0a52a0ce54"
      },
      "source": [
        "%%html\n",
        "<iframe src=\"https://docs.google.com/forms/d/e/1FAIpQLSdwvPS8JxYMDf1DhqA1okACmx3QM-htCvULUTSCWLwetH8urA/viewform?embedded=true\" width=\"640\" height=\"990\" frameborder=\"0\" marginheight=\"0\" marginwidth=\"0\">Chargement…</iframe>"
      ],
      "execution_count": 9,
      "outputs": [
        {
          "output_type": "display_data",
          "data": {
            "text/html": [
              "<iframe src=\"https://docs.google.com/forms/d/e/1FAIpQLSdwvPS8JxYMDf1DhqA1okACmx3QM-htCvULUTSCWLwetH8urA/viewform?embedded=true\" width=\"640\" height=\"990\" frameborder=\"0\" marginheight=\"0\" marginwidth=\"0\">Chargement…</iframe>"
            ],
            "text/plain": [
              "<IPython.core.display.HTML object>"
            ]
          },
          "metadata": {
            "tags": []
          }
        }
      ]
    }
  ]
}