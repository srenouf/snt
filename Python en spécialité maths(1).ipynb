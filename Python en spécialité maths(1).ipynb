{
 "cells": [
  {
   "cell_type": "markdown",
   "metadata": {},
   "source": [
    "<h1>Python en spécialité mathématiques</h1><p>, d'après un article de Benjamin Clerc dans Mathématice</p>"
   ]
  },
  {
   "cell_type": "markdown",
   "metadata": {},
   "source": [
    "<h2>1. Les suites</h2>"
   ]
  },
  {
   "cell_type": "markdown",
   "metadata": {},
   "source": [
    "<h3>1.1. Calcul de termes par un algorithme pour une suite définie de manière explicite</h3>"
   ]
  },
  {
   "cell_type": "markdown",
   "metadata": {},
   "source": [
    "<p>Utilisation d'une liste en compréhension: à vous de tester les lignes de codes suivantes:</p>"
   ]
  },
  {
   "cell_type": "code",
   "execution_count": null,
   "metadata": {},
   "outputs": [],
   "source": [
    "#Il s'agit de créer une liste en utilisant une boucle for\n",
    "[i for i in range(11)]"
   ]
  },
  {
   "cell_type": "code",
   "execution_count": null,
   "metadata": {},
   "outputs": [],
   "source": [
    "[i**2 for i in range(1,5)]"
   ]
  },
  {
   "cell_type": "markdown",
   "metadata": {},
   "source": [
    "<p>A vous d'écrire une ligne de code ci-dessous pour afficher les valeur de i² pour i de 0 à 10.</p>"
   ]
  },
  {
   "cell_type": "code",
   "execution_count": null,
   "metadata": {},
   "outputs": [],
   "source": []
  },
  {
   "cell_type": "markdown",
   "metadata": {},
   "source": [
    "Cas plus classique où $U_n=f(n)$:<br>\n",
    "L'idée est toujours d'utiliser des fonctions! Complétez le code ci-dessous pour afficher U(7). Puis modifier le pour faire afficher U(50) avec U(n)=$\\frac{n+2}{n-3}$"
   ]
  },
  {
   "cell_type": "code",
   "execution_count": null,
   "metadata": {},
   "outputs": [],
   "source": [
    "def U(n):\n",
    "    return n**2+3\n",
    "U(?)\n",
    "    "
   ]
  },
  {
   "cell_type": "markdown",
   "metadata": {},
   "source": [
    "<p>Pour faire afficher les termes de 0 à 10 par exemple, il faudra utiliser la méthode append.Changez la valeur debut et fin dans le code ci-dessous:</p>"
   ]
  },
  {
   "cell_type": "code",
   "execution_count": null,
   "metadata": {},
   "outputs": [],
   "source": [
    "def u(n):\n",
    "    return n+3\n",
    "def listesuite(u,debut,fin):\n",
    "    suite = []\n",
    "    for i in range(debut,fin+1):\n",
    "        suite.append(u(i))\n",
    "    return suite\n",
    "listesuite(u,debut,fin)"
   ]
  },
  {
   "cell_type": "markdown",
   "metadata": {},
   "source": [
    "<h3>1.2. Suites définies par une relation de récurrence</h3>"
   ]
  },
  {
   "cell_type": "markdown",
   "metadata": {},
   "source": [
    "Il s'agit d'une suite définie de la manière suivante:$U_{n_0}$ donné et\n",
    "$U_{n+1}=f(U_{n})$ pour $n \\geqslant n_0$ où $f$ représente une fonction.<br>\n",
    "Prenons le cas où $f(x)=5x+11$."
   ]
  },
  {
   "cell_type": "code",
   "execution_count": null,
   "metadata": {},
   "outputs": [],
   "source": [
    "def f(u_n):        #on calcule l'image de Un par f  \n",
    "    return 5*u_n+11\n",
    "\n",
    "def suite_recurrente(f,debut,fin,u_0):   #affichage de tous les termes\n",
    "    suite = [u_0]\n",
    "    for i in range(debut,fin):\n",
    "        suite.append(f(suite[i-debut]))\n",
    "    return suite\n",
    "\n",
    "suite_recurrente(f,2,6,3)"
   ]
  },
  {
   "cell_type": "markdown",
   "metadata": {},
   "source": [
    "<h3>1.3. Algorithme de seuil</h3>"
   ]
  },
  {
   "cell_type": "markdown",
   "metadata": {},
   "source": [
    "<p>Un algorithme \"de seuil\" permet de déterminer une valeur pour laquelle une condition est respectée pour la première fois. On l'utilise pour répondre à une question du type « déterminer la plus petite valeur de n pour laquelle... ».\n",
    "</p>"
   ]
  },
  {
   "cell_type": "code",
   "execution_count": null,
   "metadata": {},
   "outputs": [],
   "source": [
    "#Suite définie de manière explicite\n",
    "def u(n):\n",
    "    return n**2+3\n",
    "\n",
    "def seuil(n_0,N):\n",
    "    n=n_0\n",
    "    while u(n)<N:\n",
    "        n=n+1\n",
    "    return n\n",
    "seuil(0,1000)"
   ]
  },
  {
   "cell_type": "markdown",
   "metadata": {},
   "source": [
    "Modifiez le code ci-dessus pour trouver à partir de quelle valeur de n, on a $U_n$ > 1000 avec $U_n$ définie par $U_n=n²-2n+1$"
   ]
  },
  {
   "cell_type": "code",
   "execution_count": 2,
   "metadata": {},
   "outputs": [
    {
     "data": {
      "text/plain": [
       "5"
      ]
     },
     "execution_count": 2,
     "metadata": {},
     "output_type": "execute_result"
    }
   ],
   "source": [
    "#Suite définie de manière récurrente\n",
    "def f(u_n):\n",
    "    return 3*u_n+11\n",
    "def seuil(n_0,u_0,N):\n",
    "    n=n_0\n",
    "    U=u_0\n",
    "    while U<N:\n",
    "        n=n+1\n",
    "        U=f(U)\n",
    "    return n\n",
    "seuil(0,3,1000)"
   ]
  },
  {
   "cell_type": "markdown",
   "metadata": {},
   "source": [
    "<h3>1.4. Suite dite de FIBONACCI</h3>\n",
    "<p>Histoire: <a href=\"https://fr.wikipedia.org/wiki/Leonardo_Fibonacci\">Fibonacci</a></p>"
   ]
  },
  {
   "cell_type": "code",
   "execution_count": null,
   "metadata": {},
   "outputs": [],
   "source": [
    "%%html\n",
    "<iframe width=\"560\" height=\"315\" src=\"https://www.youtube.com/embed/JTy3v9_nZH8\" frameborder=\"0\" allow=\"accelerometer; autoplay; encrypted-media; gyroscope; picture-in-picture\" allowfullscreen></iframe>\n"
   ]
  },
  {
   "cell_type": "markdown",
   "metadata": {},
   "source": [
    "<p>Nous allons étudier, en utilisant Python, la suite de Fibonacci. </p><h2>Méthode dite récurrente.</h2></p>"
   ]
  },
  {
   "cell_type": "markdown",
   "metadata": {},
   "source": [
    "$$F_{n+2}=F_{n+1}+F_n$$ avec $$F_0=F_1=1$$\n",
    "<p>Remarque: on peut aussi trouver dans la littérature relative à ce sujet, une initialisation avec $F_{0}=0$ et $F_{1}=1$</p>"
   ]
  },
  {
   "cell_type": "code",
   "execution_count": null,
   "metadata": {},
   "outputs": [],
   "source": [
    "def fibo(n):\n",
    "    if n==0 or n==1:\n",
    "        return 1\n",
    "    else:\n",
    "        return fibo(n-1)+fibo(n-2)"
   ]
  },
  {
   "cell_type": "markdown",
   "metadata": {},
   "source": [
    "<p>Testez cette fonction avec différentes valeurs de n. Que constatez-vous? Pouvez-vous expliquer?</p>"
   ]
  },
  {
   "cell_type": "code",
   "execution_count": null,
   "metadata": {},
   "outputs": [],
   "source": [
    "fibo(10)"
   ]
  },
  {
   "cell_type": "markdown",
   "metadata": {},
   "source": [
    "<h3>Méthode dite de mémoization</h3>\n",
    "<p>Celle-ci ne garde en memoire que les résultats que l'on réutilise. Pour en savoir plus :<a href=\"https://callicode.fr/blog/post/memoization.html\">Memoization</a></p>"
   ]
  },
  {
   "cell_type": "code",
   "execution_count": null,
   "metadata": {},
   "outputs": [],
   "source": [
    "def fibo2(n):\n",
    "    a=1\n",
    "    b=1\n",
    "    for i in range(n):\n",
    "        a,b=b,a+b\n",
    "    return a\n"
   ]
  },
  {
   "cell_type": "markdown",
   "metadata": {},
   "source": [
    "A vous de tester cette fonction avec différentes valeurs de n!"
   ]
  },
  {
   "cell_type": "code",
   "execution_count": null,
   "metadata": {},
   "outputs": [],
   "source": [
    "fibo2(3004)"
   ]
  },
  {
   "cell_type": "markdown",
   "metadata": {},
   "source": [
    "<h2>2. Approximation de l'exponentielle</h2>\n",
    "<h3>Méthode d'EULER</h3>\n",
    "\n",
    "<p>Histoire: <a href=\"https://fr.wikipedia.org/wiki/Leonhard_Euler\">Euler</a></p>"
   ]
  },
  {
   "cell_type": "markdown",
   "metadata": {},
   "source": [
    "<p>On se propose de tracer une fonction $f$ vérifiant $f'(x)=f(x)$ avec $f(0)=1$.\n",
    "<br>La méthode d’Euler consiste à construire une suite de points $(x_n,y_n)$ avec $y_n$ proche de $f(x_n)$.On construit alors un nuage de points constituant une approximation de la courbe représentative de la fonction $f$.\n",
    "On construit donc pour $(x_n)$ une suite arithmétique de raison $h>0$et de premier terme 0.<br>\n",
    "On a alors $x_n=nh$ et $x_{n+1}=x_n+h$ <br>\n",
    "Pour $(y_n)$ on a alors: $y_0=1$ puis on va utiliser l'approximation par la tangente. Pour tout $n \\in \\mathbb{N}$\n",
    "    La suite est définie par et pour tout . C’est-à-dire que l’on se sert de l’approximation affine de la fonction par ses tangentes successives.\n",
    "est géométrique de premier terme 1 et de raison 1 + h, en effet .\n",
    "D’où le script suivant :"
   ]
  },
  {
   "cell_type": "code",
   "execution_count": null,
   "metadata": {},
   "outputs": [],
   "source": [
    "import matplotlib.pyplot as plt   #On importe la bibliothèque permettant de tracer\n",
    "def Euler(x_fin,n) :              #On utilise de manière privilégiée les fonctions\n",
    "        x=0\n",
    "        y=1\n",
    "        h=x_fin/n\n",
    "        abscisse=[0]     #création de la liste des abscsisses\n",
    "        ordonnee=[1]     #création de la liste des ordonnées\n",
    "        for i in range(n) :\n",
    "            y=(1+h)*y\n",
    "            x=x+h\n",
    "            abscisse.append(x)    #ajout d'un terme à la fin de la liste\n",
    "            ordonnee.append(y)    #ajout d'un terme à la fin de la liste\n",
    "        plt.plot(abscisse,ordonnee,\"r\")\n",
    "        plt.show()       #permet l'affichage du graphique\n",
    "Euler(3,3)               #A vous de changer les valeurs suivant le contexte"
   ]
  },
  {
   "cell_type": "code",
   "execution_count": null,
   "metadata": {},
   "outputs": [],
   "source": []
  },
  {
   "cell_type": "code",
   "execution_count": null,
   "metadata": {},
   "outputs": [],
   "source": []
  },
  {
   "cell_type": "markdown",
   "metadata": {},
   "source": [
    "<footer>S. Renouf, Lycée Beaussier</footer>"
   ]
  }
 ],
 "metadata": {
  "kernelspec": {
   "display_name": "Python 3",
   "language": "python",
   "name": "python3"
  },
  "language_info": {
   "codemirror_mode": {
    "name": "ipython",
    "version": 3
   },
   "file_extension": ".py",
   "mimetype": "text/x-python",
   "name": "python",
   "nbconvert_exporter": "python",
   "pygments_lexer": "ipython3",
   "version": "3.7.1"
  }
 },
 "nbformat": 4,
 "nbformat_minor": 2
}
