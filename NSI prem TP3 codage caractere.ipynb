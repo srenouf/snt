{
 "cells": [
  {
   "cell_type": "markdown",
   "metadata": {
    "colab_type": "text",
    "id": "Jrim43CQIT4Q"
   },
   "source": [
    "# TP 3-  Codage des caractères (2)"
   ]
  },
  {
   "cell_type": "markdown",
   "metadata": {
    "colab_type": "text",
    "id": "rjDtTTFawi4m"
   },
   "source": [
    "Écrire votre nom ici :\n",
    "\n",
    "Nom :\n",
    "\n",
    "Classe :"
   ]
  },
  {
   "cell_type": "markdown",
   "metadata": {
    "colab_type": "text",
    "id": "7X7ZaIaF7ued"
   },
   "source": [
    "# Le chiffre de César\n",
    "\n",
    "Le chiffre de César est une méthode de chiffrement consistant à décaler les lettres de l'alphabet de quelques crans. Par exemple, si on décale les lettres de 3 rangs (comme le faisait Jules César)\n",
    "<p align=\"center\">\n",
    "<img src=\"https://isn-icn-ljm.pagesperso-orange.fr//images/chiffre_cesar.PNG\">\n",
    "  </p>"
   ]
  },
  {
   "cell_type": "markdown",
   "metadata": {
    "colab_type": "text",
    "id": "ZzqB-yHF-Ztr"
   },
   "source": [
    "## L'objectif\n",
    "\n",
    "En vous inspirant du TP-codage des caractères(1)\n",
    "\n",
    "\n",
    "\n",
    "* <font color=\"blue\">Écrivez un programme Python qui implémente le chiffre de César. Utilisez pour cela les fonctions ord() et chr() .</font>\n",
    "\n",
    "* <font color=\"blue\">On doit pouvoir choisir le décalage des lettres entre 1 et 25.</font>\n",
    "\n",
    "* <font color=\"blue\">L'entrée sera un texte quelconque <u> sans accents et sans ponctuation</u> ; par contre, le texte d'entrée sera composé de majuscules et de minuscules.</font>\n",
    "\n",
    "* <font color=\"blue\">Le texte de sortie sera écrit tout en majuscules.</font>\n",
    "\n",
    "* <font color=\"blue\">Les espaces du texte d'entrée se retrouveront aux mêmes endroits dans le texte chiffré.</font>\n",
    "\n",
    "* <font color=\"blue\">Faites en sorte que l'on puisse crypter, mais aussi décrypter un message.</font>\n",
    "      \n",
    "\n",
    "### Une aide...\n",
    "\n",
    "Les lettres majuscules sont sur la plage 65 (pour A) à 90 (pour Z)\n",
    "\n",
    "**La notion de \"modulo\"**\n",
    "\n",
    "Considérons les nombres de $0$ à $25$, il y en a $26$\n",
    "\n",
    "Lorsqu'on divise un nombre par 26, les restes possibles sont compris entre $0$ et $25$\n",
    "\n",
    "**Par exemple :**\n",
    "* Dans la division Euclidienne de $17$ par $26$ le reste est $ 17$\n",
    "* Dans la division Euclidienne de $28$ par $26$ le reste est $ 2$\n",
    "\n",
    "**En Python : l'opération  28%26 donne 2 comme résultat**\n",
    "\n",
    "**Elle se lit :**\n",
    "* **28 donne 2 modulo 26**\n",
    "* **Ou bien 28 est congru à 2 modulo 26**\n",
    "* **Ou bien 28 et 2 ont même reste dans la division Euclidienne par 26**\n",
    "\n",
    "Pour ramener les lettres de l'alphabet sur la plage $[0 ,1,2,...,25]$, il suffit de retirer $65$ au code ASCII de la lettre\n",
    "\n",
    "Cette opération permet de considérer que les nombres associés aux lettres de l'alphabet vont de $0$ à $25$\n",
    "\n",
    "###Appliquons cela au chiffrement de César\n",
    "\n",
    "***Comment se code la lettre $C$ :***\n",
    "\n",
    "* Le code ASCII de $C$ est $67$\n",
    "* On retire $65$, on trouve $2$\n",
    "* On applique le décalage de César : on trouve $5$\n",
    "* On calcule le reste dans la division Euclidienne de $5$ par $26$ : On trouve $5$\n",
    "* On ajoute $65$, on trouve $70$\n",
    "* On transforme ce code ASCII en lettre : $chr(70)$ , on trouve $F$\n",
    "\n",
    "***Comment se code la lettre $Y$ :***\n",
    "\n",
    "\n",
    "* Le code ASCII de $Y$ est $89$\n",
    "* On retire $65$, on trouve $24$\n",
    "* On applique le décalage de César : on trouve $27$\n",
    "* On calcule le reste dans la division Euclidienne de $27$ par $26$ : On trouve $1$\n",
    "* On ajoute $65$, on trouve $66$\n",
    "* On transforme ce code ASCII en lettre : $chr(66)$ , on trouve $B$\n",
    "\n"
   ]
  },
  {
   "cell_type": "markdown",
   "metadata": {
    "colab_type": "text",
    "id": "l3aUgoJOJGOt"
   },
   "source": [
    "###À faire:\n",
    "**Réaliser l'objectif**"
   ]
  },
  {
   "cell_type": "code",
   "execution_count": 0,
   "metadata": {
    "colab": {},
    "colab_type": "code",
    "id": "ORivELvN_s2J"
   },
   "outputs": [],
   "source": [
    "#Écrire le code ici"
   ]
  }
 ],
 "metadata": {
  "colab": {
   "collapsed_sections": [],
   "name": "TP-codage des caractères(2).ipynb",
   "provenance": [],
   "toc_visible": true,
   "version": "0.3.2"
  },
  "kernelspec": {
   "display_name": "Python 3",
   "language": "python",
   "name": "python3"
  },
  "language_info": {
   "codemirror_mode": {
    "name": "ipython",
    "version": 3
   },
   "file_extension": ".py",
   "mimetype": "text/x-python",
   "name": "python",
   "nbconvert_exporter": "python",
   "pygments_lexer": "ipython3",
   "version": "3.7.1"
  }
 },
 "nbformat": 4,
 "nbformat_minor": 1
}
