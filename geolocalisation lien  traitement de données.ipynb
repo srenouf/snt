{
  "nbformat": 4,
  "nbformat_minor": 0,
  "metadata": {
    "colab": {
      "name": "Cartographie lien traitement donnees.ipynb",
      "version": "0.3.2",
      "provenance": [],
      "collapsed_sections": [
        "j0z_e3ELTzPd",
        "8Gx5MEzHVjYW",
        "_gJt-q4vhYXA",
        "SzR0RdCTkmcm"
      ]
    },
    "kernelspec": {
      "name": "python3",
      "display_name": "Python 3"
    }
  },
  "cells": [
    {
      "cell_type": "markdown",
      "metadata": {
        "id": "rncPIuCxY8BW",
        "colab_type": "text"
      },
      "source": [
        "#Activités sur la cartographie et lien avec le traitement de données"
      ]
    },
    {
      "cell_type": "markdown",
      "metadata": {
        "id": "j0z_e3ELTzPd",
        "colab_type": "text"
      },
      "source": [
        "## Affichage sur une carte des données de tremblements de Terre orientée SVT\n",
        "\n",
        "Les données sont obtenues en temps réel sur : *https://earthquake.usgs.gov/earthquakes/feed/v1.0/csv.php*\n",
        "\n",
        "données fournies par l'US Geological Survey...\n"
      ]
    },
    {
      "cell_type": "markdown",
      "metadata": {
        "id": "H4rFRt2_VCMN",
        "colab_type": "text"
      },
      "source": [
        "**1. On commence par importer les bibliothéques**\n",
        "* folium permet de générer les cartes (à partir de Open street Map) et de placer des marqueurs\n",
        "* csv permet de traiter les données obtenues dans un fichier csv\n",
        "* request permet de télécharger les données depuis le site de l'USGS\n",
        "\n",
        "Cliquez sur Shit Entrée\n"
      ]
    },
    {
      "cell_type": "code",
      "metadata": {
        "id": "wIZGxDAITZYh",
        "colab_type": "code",
        "colab": {}
      },
      "source": [
        "import folium\n",
        "import csv\n",
        "import requests"
      ],
      "execution_count": 0,
      "outputs": []
    },
    {
      "cell_type": "markdown",
      "metadata": {
        "id": "MUx5o9y2Wsm_",
        "colab_type": "text"
      },
      "source": [
        "**2. On importe les données depuis le site USGS**\n",
        "\n",
        "Le site mets à disposition plusieurs types de fichiers -> dernière heure, dernier jour, derniers 7 jours etc ....\n",
        "voir (https://earthquake.usgs.gov/earthquakes/feed/v1.0/csv.php)\n",
        "\n",
        "Le choix est fait ici de visualiser les séismes d'une magnitude supérieure à 4,5 le mois dernier. Selon vous, en observant le code ci-dessous, que doit-on changer pour obtenir les séismes d'une magnitude supérieure à 2,5 le mois dernier?\n",
        "\n",
        "Le fichier CSV est stockée dans la variable tremblement_csv sous forme de liste. Que peut-on dire de la lecture de ce fichier?\n"
      ]
    },
    {
      "cell_type": "code",
      "metadata": {
        "id": "y_owoFC5WXL6",
        "colab_type": "code",
        "colab": {}
      },
      "source": [
        "# Importation des données au format CSV\n",
        "url=\"http://earthquake.usgs.gov/earthquakes/feed/v1.0/summary/4.5_month.csv\"\n",
        "csvfile = requests.get(url)\n",
        "csvfile = csvfile.content.decode('utf-8')\n",
        "print(csvfile)\n"
      ],
      "execution_count": 0,
      "outputs": []
    },
    {
      "cell_type": "markdown",
      "metadata": {
        "id": "RXJ_et5CZScU",
        "colab_type": "text"
      },
      "source": [
        "**3. Création de la carte vide**\n",
        "\n",
        "La bibiothèque folium permet de générer une carte vide.... pour l'instant. Que se passe-t-il si l'on change la valeur de zoom_start?"
      ]
    },
    {
      "cell_type": "code",
      "metadata": {
        "id": "lMfKHdVjVyQR",
        "colab_type": "code",
        "colab": {}
      },
      "source": [
        "carte_tremblements = folium.Map(location=[0,0], zoom_start=2)\n",
        "display(carte_tremblements)"
      ],
      "execution_count": 0,
      "outputs": []
    },
    {
      "cell_type": "markdown",
      "metadata": {
        "id": "UBfa6wwuZpF-",
        "colab_type": "text"
      },
      "source": [
        "**4. Lecture du fichier csv et positionnement des marqueurs.**\n",
        "\n",
        "Structure du fichier csv:<br> 0 : date , 1: latitude , 2 : Longitude , 3 : profondeur, 4 : Magnitude\n"
      ]
    },
    {
      "cell_type": "code",
      "metadata": {
        "id": "wiYnb3yBV35p",
        "colab_type": "code",
        "colab": {}
      },
      "source": [
        "carte_tremblements = folium.Map(location=[0,0], zoom_start=2)\n",
        "tremblements_csv = csv.reader(csvfile.splitlines(), delimiter=',')\n",
        "# pour éviter la ligne d'en têtes.\n",
        "header = next(tremblements_csv)\n",
        "# On lit maintenant chaque ligne  du fichier csv téléchargé\n",
        "for ligne in tremblements_csv :\n",
        "  latitude = float(ligne[1])\n",
        "  longitude = float(ligne[2])\n",
        "  folium.Marker([latitude,longitude]).add_to(carte_tremblements)\n",
        "  \n",
        "display(carte_tremblements)"
      ],
      "execution_count": 0,
      "outputs": []
    },
    {
      "cell_type": "markdown",
      "metadata": {
        "id": "rPe-hveSaxy_",
        "colab_type": "text"
      },
      "source": [
        "**5. On affine en affichant la magnitude du seismes**\n",
        "\n",
        "On ajoute donc un pop-up qui affiche la magnitude, tout simplement"
      ]
    },
    {
      "cell_type": "code",
      "metadata": {
        "id": "8Q-G3cUYb8aC",
        "colab_type": "code",
        "colab": {}
      },
      "source": [
        "carte_tremblements = folium.Map(location=[0,0], zoom_start=3)\n",
        "tremblements_csv = csv.reader(csvfile.splitlines(), delimiter=',')\n",
        "# pour éviter la ligne d'en têtes.\n",
        "header = next(tremblements_csv)\n",
        "# On lit maintenant chaque ligne  du fichier csv téléchargé\n",
        "for ligne in tremblements_csv :\n",
        "  latitude = float(ligne[1])\n",
        "  longitude = float(ligne[2])\n",
        "  magnitude = \"Magnitude : \"+ str(ligne[4])\n",
        "  folium.Marker([latitude,longitude],popup = magnitude).add_to(carte_tremblements)\n",
        "  \n",
        "display(carte_tremblements)"
      ],
      "execution_count": 0,
      "outputs": []
    },
    {
      "cell_type": "markdown",
      "metadata": {
        "id": "9xkabYOajoX7",
        "colab_type": "text"
      },
      "source": [
        "Prolongements possibles : \n",
        "\n",
        "*  on peut demander aux élèves d'afficher avec un marker rouge les seismes dont la magnitude est supérieure à 6.\n",
        "*  on peut leur demander d'afficher la date dans le popup...\n",
        "\n",
        "\n",
        "\n"
      ]
    },
    {
      "cell_type": "code",
      "metadata": {
        "id": "a4aaDuZvkZGK",
        "colab_type": "code",
        "colab": {}
      },
      "source": [
        "carte_tremblements = folium.Map(location=[0,0], zoom_start=2)\n",
        "tremblements_csv = csv.reader(csvfile.splitlines(), delimiter=',')\n",
        "# pour éviter la ligne d'en têtes.\n",
        "header = next(tremblements_csv)\n",
        "# On lit maintenant chaque ligne  du fichier csv téléchargé\n",
        "for ligne in tremblements_csv :\n",
        "  latitude = float(ligne[1])\n",
        "  longitude = float(ligne[2])\n",
        "  magnitude = \"Magnitude : \"+ str(ligne[4])\n",
        "  if float(ligne[4]) > 5 :\n",
        "    folium.Marker([latitude,longitude],popup = magnitude,icon = folium.Icon(color='red')).add_to(carte_tremblements)\n",
        "  elif float(ligne[4]) > 4.7 :\n",
        "    folium.Marker([latitude,longitude],popup = magnitude,icon = folium.Icon(color='blue')).add_to(carte_tremblements)\n",
        "  else :\n",
        "    folium.Marker([latitude,longitude],popup = magnitude,icon = folium.Icon(color='green')).add_to(carte_tremblements)\n",
        "    \n",
        "  \n",
        "display(carte_tremblements)"
      ],
      "execution_count": 0,
      "outputs": []
    },
    {
      "cell_type": "markdown",
      "metadata": {
        "id": "8Gx5MEzHVjYW",
        "colab_type": "text"
      },
      "source": [
        "## Utilisation d'une API pour localiser l'ISS orientée Maths, Phys/Chim"
      ]
    },
    {
      "cell_type": "markdown",
      "metadata": {
        "id": "6ZwN1taYfNB3",
        "colab_type": "text"
      },
      "source": [
        "On va utiliser un **web-service** pour trouver la position actuelle de l'ISS, puis tracer celle-ci sur une carte. <br>\n",
        "Un web-service a une adresse (url) comme une page web. Au lieu de renvoyer du html, dans le cas d'une page web classique, il retourne des données sous un format **json** (prononcé jason) ou **csv**. "
      ]
    },
    {
      "cell_type": "markdown",
      "metadata": {
        "id": "_gJt-q4vhYXA",
        "colab_type": "text"
      },
      "source": [
        "###Activité html/css\n",
        "A vous de modifier le code html ci-dessous pour afficher à la place de l'image de trinket une photo de l'iss. Puis vous répondrez aux questions suivantes. N'oubliez pas à la fin de la séance de sauvegarder votre fichier \"nom_classe_iss\" en appuyant sur download."
      ]
    },
    {
      "cell_type": "code",
      "metadata": {
        "id": "lUngdowGg7yi",
        "colab_type": "code",
        "colab": {}
      },
      "source": [
        "%%html\n",
        "\n",
        "<iframe src=\"https://trinket.io/embed/html/352bc08aa4?runMode=autorun\" width=\"100%\" height=\"356\" frameborder=\"0\" marginwidth=\"0\" marginheight=\"0\" allowfullscreen></iframe>\n"
      ],
      "execution_count": 0,
      "outputs": []
    },
    {
      "cell_type": "markdown",
      "metadata": {
        "id": "F0WFFcRTiprK",
        "colab_type": "text"
      },
      "source": [
        "Cliquez sur ce lien [http://api.open-notify.org/astros.json](http://api.open-notify.org/astros.json). Que se passe-t-il? Répondez dans le trinket ci-dessus."
      ]
    },
    {
      "cell_type": "markdown",
      "metadata": {
        "id": "3sxvEtmRjKyE",
        "colab_type": "text"
      },
      "source": [
        "Cliquez sur ce lien [http://api.open-notify.org/iss-now.json](http://api.open-notify.org/iss-now.json). Que se passe-t-il? Répondez dans le trinket ci-dessus."
      ]
    },
    {
      "cell_type": "markdown",
      "metadata": {
        "id": "O68pqYNyjgUs",
        "colab_type": "text"
      },
      "source": [
        "Il faut maintenant récupérer la position à partir de ces données. Pour cela, on va utiliser les bibliothèques json et requests."
      ]
    },
    {
      "cell_type": "code",
      "metadata": {
        "id": "Qe1U07B4b9jf",
        "colab_type": "code",
        "colab": {}
      },
      "source": [
        "import json\n",
        "import folium\n",
        "import requests\n",
        "import time"
      ],
      "execution_count": 0,
      "outputs": []
    },
    {
      "cell_type": "markdown",
      "metadata": {
        "id": "bNRCDVMvch0p",
        "colab_type": "text"
      },
      "source": [
        "On va maintenant stocker dans une variable nommé reponse le résultat de notre requète. Le format est un peu particulier, on appelle cela un dictionnaire de dictionnaire, ce n'est pas facile à lire. A vous de le tester ci-dessous. Copiez ce résultat dans votre trinket! Traduisez ces informations par des phrases.\n",
        "\n"
      ]
    },
    {
      "cell_type": "code",
      "metadata": {
        "id": "DUtlsUtljw1H",
        "colab_type": "code",
        "colab": {}
      },
      "source": [
        "url=\"http://api.open-notify.org/iss-now.json\"\n",
        "reponse=requests.get(url)\n",
        "reponse = reponse.content.decode('utf-8')\n",
        "reponse=eval(reponse) #permet de transformer la réponse en un élément plus facilement utilisable\n",
        "type(reponse)\n"
      ],
      "execution_count": 0,
      "outputs": []
    },
    {
      "cell_type": "markdown",
      "metadata": {
        "id": "SzR0RdCTkmcm",
        "colab_type": "text"
      },
      "source": [
        "###Informations sur les dictionnaires\n",
        ">En python, les { } indiquent un **dictionnaire**. Par exemple: <br>\n",
        "\n",
        "\n",
        ">*   annuaire={'marc':35, 'alice':30, 'eric':38} est un dictionnaire contenant les prénoms et les âges associés à ceux-ci.<br>\n",
        "\n",
        ">On dira que les prénoms sont les **clés** et les âges les **valeurs** correspondantes aux clés.<br>\n",
        "La commande annuaire[\"marc\"] retournera l'âge de marc.<br><br> Selon vous que va faire cette ligne de code?\n",
        "\n",
        "\n",
        "\n"
      ]
    },
    {
      "cell_type": "code",
      "metadata": {
        "id": "8sztoS2IklhC",
        "colab_type": "code",
        "colab": {}
      },
      "source": [
        "localisation=reponse[\"iss_position\"]\n",
        "print(localisation)"
      ],
      "execution_count": 0,
      "outputs": []
    },
    {
      "cell_type": "markdown",
      "metadata": {
        "id": "lratLasGp1T9",
        "colab_type": "text"
      },
      "source": [
        ">Vérifiez en rajoutant la ligne suivante: <br>\n",
        ">print(localisation)"
      ]
    },
    {
      "cell_type": "markdown",
      "metadata": {
        "id": "_0oAHa5S-40T",
        "colab_type": "text"
      },
      "source": [
        "On va maintenant s'amuser à regrouper tout cela pour afficher la position en temps réel de l'ISS:"
      ]
    },
    {
      "cell_type": "code",
      "metadata": {
        "id": "GhfrfBcx_Azx",
        "colab_type": "code",
        "colab": {}
      },
      "source": [
        "carte= folium.Map(location=[0,0], zoom_start=2)\n",
        "url=\"http://api.open-notify.org/iss-now.json\"\n",
        "reponse=requests.get(url)\n",
        "reponse = reponse.content.decode('utf-8')\n",
        "reponse=eval(reponse) #permet de transformer la réponse en un élément plus facilement utilisable\n",
        "latitude=float(localisation[\"latitude\"])\n",
        "longitude=float(localisation[\"longitude\"])\n",
        "folium.Marker([latitude,longitude],popup = \"ISS\").add_to(carte)\n",
        "\n",
        "display(carte)"
      ],
      "execution_count": 0,
      "outputs": []
    },
    {
      "cell_type": "markdown",
      "metadata": {
        "id": "_7AEheS8_T4W",
        "colab_type": "text"
      },
      "source": [
        "Maintenant à l'aide d'une boucle on va placer des marqueurs:"
      ]
    },
    {
      "cell_type": "code",
      "metadata": {
        "id": "q5PP4WDTctpA",
        "colab_type": "code",
        "colab": {}
      },
      "source": [
        "carte= folium.Map(location=[0,0], zoom_start=2)\n",
        "url=\"http://api.open-notify.org/iss-now.json\"\n",
        "reponse=requests.get(url)\n",
        "reponse = reponse.content.decode('utf-8')\n",
        "reponse=eval(reponse) #permet de transformer la réponse en un élément plus facilement utilisable\n",
        "\n",
        "for i in range(8):\n",
        "  reponse=requests.get(url)\n",
        "  reponse = reponse.content.decode('utf-8')\n",
        "  reponse=eval(reponse)\n",
        "  localisation=reponse[\"iss_position\"]\n",
        "  latitude=float(localisation[\"latitude\"])\n",
        "  longitude=float(localisation[\"longitude\"])\n",
        "  folium.Marker([latitude,longitude],popup = \"ISS\").add_to(carte)\n",
        "  time.sleep(25)\n",
        "display(carte)"
      ],
      "execution_count": 0,
      "outputs": []
    },
    {
      "cell_type": "markdown",
      "metadata": {
        "id": "uq8Vvq8G_ayj",
        "colab_type": "text"
      },
      "source": [
        "S. Renouf, lycée Beaussier"
      ]
    }
  ]
}