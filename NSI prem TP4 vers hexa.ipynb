{
 "cells": [
  {
   "cell_type": "markdown",
   "metadata": {
    "colab_type": "text",
    "id": "Jrim43CQIT4Q"
   },
   "source": [
    "# TP4 -  Vers l'hexadécimal"
   ]
  },
  {
   "cell_type": "markdown",
   "metadata": {
    "colab_type": "text",
    "id": "rjDtTTFawi4m"
   },
   "source": [
    "Écrire votre nom ici :\n",
    "\n",
    "Nom :\n",
    "\n",
    "Classe :"
   ]
  },
  {
   "cell_type": "markdown",
   "metadata": {
    "colab_type": "text",
    "id": "YUN8tH2Bg7Yp"
   },
   "source": [
    "## Rappel \n",
    "\n",
    "**Les signes utilsés en base $16$ pour représenter un entier naturel sont : $\\{0,1,2,3,4,5,6,7,8,9,A,B,C,D,E,F\\}$**\n",
    "\n",
    "* $A$ pour $10$\n",
    "* $B$ pour $11$\n",
    "* ...\n",
    "* $F$ pour $15$\n",
    "\n",
    "La méthode pour passer du décimal à l'hexadécimal est celle de la division Euclidienne par $16$\n",
    "\n",
    "Un exemple :  Écrire 77 en hexadécimal\n",
    "\n",
    "$77=16\\times 4 +13$\n",
    "\n",
    "$4=16\\times 0+4$$ \n",
    "\n",
    "donc $77$ en hexadécimal vaut : $4D$\n",
    "\n",
    "Preuve :  $4D=4\\times 16^1 +D\\times 16^0= 64 + 13 =77$"
   ]
  },
  {
   "cell_type": "code",
   "execution_count": 1,
   "metadata": {
    "colab": {
     "base_uri": "https://localhost:8080/",
     "height": 35
    },
    "colab_type": "code",
    "id": "KTSc5yB5jO4z",
    "outputId": "6e380b0a-a553-4333-c972-cf4ca7108ba5"
   },
   "outputs": [
    {
     "name": "stdout",
     "output_type": "stream",
     "text": [
      "0x4d\n"
     ]
    }
   ],
   "source": [
    "# vérification avec Python\n",
    "\n",
    "print(hex(77))"
   ]
  },
  {
   "cell_type": "markdown",
   "metadata": {
    "colab_type": "text",
    "id": "BXE9e9jNkUm0"
   },
   "source": [
    "# L'objectif\n",
    "\n",
    "**Écrire une fonction qui renvoie l'écriture hexadécimale d'un entier naturel entré en paramètre**\n"
   ]
  },
  {
   "cell_type": "markdown",
   "metadata": {
    "colab_type": "text",
    "id": "mKnmL7BUmRR_"
   },
   "source": [
    "### La méthode\n",
    "\n",
    "Le programme est quasi identique que celui réalisé dans le TP-Du décimal au binaire..\n",
    "* La base est $16$\n",
    "* Certains reste doivent être stocké sous forme de lettre...\n",
    "\n",
    "**Un peu plus sur les listes**\n",
    "\n",
    "Considérons la liste :\n",
    "\n",
    "\n",
    "```\n",
    "signes=[0,1,2,3,4,5,6,7,8,9,\"A\",\"B\",\"C\",\"D\",\"E\",\"F\"]\n",
    "```\n",
    "Chaque élément de cette liste se repère à l'aide de son indice ( sa place dans le liste)\n",
    "\n",
    "* $signes[0]$ vaut $0$\n",
    "* $signes[1]$ vaut $1$\n",
    "* ...\n",
    "* $signes[10]$ vaut $A$\n",
    "* $signes[11]$ vaut $B$\n",
    "* ...\n",
    "* $signes[15]$ vaut $F$\n",
    "\n",
    "On déclare donc dans la fonction une liste : \n",
    "\n",
    "\n",
    "\n",
    "```\n",
    "signes=[0,1,2,3,4,5,6,7,8,9,\"A\",\"B\",\"C\",\"D\",\"E\",\"F\"]\n",
    "...\n",
    "...\n",
    "\n",
    "# dans la liste des restes on ajoute signes[reste]\n",
    "# ce qui aura pour effet d'ajouter les restes sous leur forme hexadécimale...\n",
    "```\n",
    "\n",
    "###À faire:\n",
    "\n",
    "**Réaliser l'objectif**\n"
   ]
  },
  {
   "cell_type": "code",
   "execution_count": 0,
   "metadata": {
    "colab": {},
    "colab_type": "code",
    "id": "PLjZqEmik1os"
   },
   "outputs": [],
   "source": [
    "'''\n",
    "fonction qui renvoie l'écriture\n",
    "hexadécimale d'un entier naturel\n",
    "passé en paramètre\n",
    "'''\n",
    "\n",
    "\n",
    "def decimalTohexa(n):\n",
    "  signes=[0,1,2,3,4,5,6,7,8,9,\"A\",\"B\",\"C\",\"D\",\"E\",\"F\"]\n",
    "  # à compléter\n",
    "\n",
    "print(decimalTohexa(77))"
   ]
  },
  {
   "cell_type": "markdown",
   "metadata": {
    "colab_type": "text",
    "id": "jYvpeLswprQp"
   },
   "source": [
    "# De l'hexadécimal au décimal...\n",
    "\n",
    "**En vous inspirant de ce qui a été vu, sauriez-vous écrire une fonction qui renvoie la valeur décimale d'un nombre écrit en hexadécimal passé en paramètre(sous forme d'une chaîne de caractères)**\n",
    "\n",
    "**Vous aurez sans doute besoin de ceci :**\n",
    "\n",
    "Récupérer l'indice d'un élément d'une liste\n",
    "\n",
    "\n",
    "\n",
    "```\n",
    "signes=[\"0\",\"1\",\"2\",\"3\",\"4\",\"5\",\"6\",\"7\",\"8\",\"9\",\"A\",\"B\",\"C\",\"D\",\"E\",\"F\"]\n",
    "\n",
    "signes.index(3)\n",
    "\n",
    "renvoie : 3\n",
    "\n",
    "signes.index(\"B\")\n",
    "\n",
    "renvoie :  11\n",
    "```\n",
    "\n",
    "Un exemple de rendu :\n",
    "\n",
    "\n",
    "\n",
    "```\n",
    "print(hexaTodecimal(\"4D\"))\n",
    "```\n",
    "renvoie :  $77$\n"
   ]
  },
  {
   "cell_type": "code",
   "execution_count": 0,
   "metadata": {
    "colab": {},
    "colab_type": "code",
    "id": "EXzjkD5lroOP"
   },
   "outputs": [],
   "source": [
    "'''\n",
    "fonction qui renvoie l'écriture décimale\n",
    "d'un entier naturel écrit en hexadécimal\n",
    "passé en paramètre sous forme de chaine\n",
    "de caractères\n",
    "'''\n",
    "\n",
    "def hexaTodecimal(chaine):\n",
    "  signes=[\"0\",\"1\",\"2\",\"3\",\"4\",\"5\",\"6\",\"7\",\"8\",\"9\",\"A\",\"B\",\"C\",\"D\",\"E\",\"F\"]\n",
    "\n",
    "  \n",
    "    \n",
    "print(hexaTodecimal(\"4D\"))  "
   ]
  }
 ],
 "metadata": {
  "colab": {
   "collapsed_sections": [],
   "name": "TP-Du décimal à l'hexadécimal.ipynb",
   "provenance": [],
   "version": "0.3.2"
  },
  "kernelspec": {
   "display_name": "Python 3",
   "language": "python",
   "name": "python3"
  },
  "language_info": {
   "codemirror_mode": {
    "name": "ipython",
    "version": 3
   },
   "file_extension": ".py",
   "mimetype": "text/x-python",
   "name": "python",
   "nbconvert_exporter": "python",
   "pygments_lexer": "ipython3",
   "version": "3.7.1"
  }
 },
 "nbformat": 4,
 "nbformat_minor": 1
}
