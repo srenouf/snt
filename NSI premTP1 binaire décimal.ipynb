{
 "cells": [
  {
   "cell_type": "markdown",
   "metadata": {
    "colab_type": "text",
    "id": "KE_Ih5Jn2q8P"
   },
   "source": [
    "# TP 1- Du binaire au décimal"
   ]
  },
  {
   "cell_type": "markdown",
   "metadata": {
    "colab_type": "text",
    "id": "rjDtTTFawi4m"
   },
   "source": [
    "Écrire votre nom ici en double cliquant\n",
    "\n",
    "Nom :\n",
    "\n",
    "Classe :"
   ]
  },
  {
   "cell_type": "markdown",
   "metadata": {
    "colab_type": "text",
    "id": "g-EE0HG623Ku"
   },
   "source": [
    "## Rappel\n",
    "\n",
    "**Un entier naturel N s'écrit en base b de la manière suivante:**\n",
    "\n",
    "**$N_b=a_na_{n-1}...a_2a_1a_0$ où les entiers $a_i$ sont compris entre $0$  et  $b-1$**\n",
    "\n",
    "Cela signifie que ce nombre se décompose en base b comme suit:\n",
    "\n",
    "$N=a_n\\times b^n+a_{n-1}\\times b^{n-1}+...a_2\\times b^2+a_1\\times b^1+a_0\\times b^0$  avec  $a_i \\in \\{0,1,2,...,b-1\\}$\n",
    "On parle d'un système décimal positionnel\n",
    "\n",
    "<hr>\n",
    " \n",
    "Ainsi en base 2, les entiers s'écrivent avec une suite de 0 et de 1 : $...01100$\n",
    "\n",
    "En base 8, avec une suite de chiffre de 0 à 7 : $...510701$\n",
    "<br>\n",
    "Visionnons cette vidéo pour mieux comprendre!\n"
   ]
  },
  {
   "cell_type": "code",
   "execution_count": 2,
   "metadata": {},
   "outputs": [
    {
     "data": {
      "text/html": [
       "<iframe width=\"560\" height=\"315\" src=\"https://www.youtube.com/embed/VRdp_vaNRoY\" frameborder=\"0\" allow=\"accelerometer; autoplay; encrypted-media; gyroscope; picture-in-picture\" allowfullscreen></iframe><br><br>\n"
      ],
      "text/plain": [
       "<IPython.core.display.HTML object>"
      ]
     },
     "metadata": {},
     "output_type": "display_data"
    }
   ],
   "source": [
    "%%html\n",
    "<iframe width=\"560\" height=\"315\" src=\"https://www.youtube.com/embed/VRdp_vaNRoY\" frameborder=\"0\" allow=\"accelerometer; autoplay; encrypted-media; gyroscope; picture-in-picture\" allowfullscreen></iframe><br><br>\n"
   ]
  },
  {
   "cell_type": "markdown",
   "metadata": {
    "colab_type": "text",
    "id": "l6_tde9j5JpF"
   },
   "source": [
    "## L'objectif :  \n",
    "**Écrire une fonction en Python qui prend en entrée un nombre en binaire et qui renvoie sa forme décimale**\n",
    "\n"
   ]
  },
  {
   "cell_type": "markdown",
   "metadata": {
    "colab_type": "text",
    "id": "2z9EvMlA5tOB"
   },
   "source": [
    "**Comment ça marche?**\n",
    "\n",
    "Prenons par exemple le nombre $N_2=1001101$\n",
    "\n",
    "Sa décomposition est :  $N=1\\times2^6+0\\times2^5+0\\times2^4+1\\times2^3+1\\times2^2+0\\times2^1+1\\times2^0$\n",
    "\n",
    "Ce qui nous donne sa valeur ( et écriture ) décimale: $N=1\\times2^6+1\\times2^3+1\\times2^2+1\\times2^0=64+8+4+1=77$\n",
    "\n",
    "**Quelques remarques...très utiles**\n",
    "\n",
    "\n",
    "\n",
    "*  $1001101$ est composé de 7 caractères\n",
    "*  La réparition des puissances de 2 : $1\\times2^{7-1}+0\\times2^{7-2}+0\\times2^{7-3}+1\\times2^{7-4}+1\\times2^{7-5}+0\\times2^{7-6}+1\\times2^{7-7}$\n",
    "* Si on considère $N_2$ comme un mot : ''$1001101$'', sa longueur est de $7$"
   ]
  },
  {
   "cell_type": "markdown",
   "metadata": {
    "colab_type": "text",
    "id": "wRRIhDvIHRrX"
   },
   "source": [
    "###Étape 1\n",
    "\n",
    "**Pour transformer un nombre en mot...**\n",
    "\n",
    "on utilise la fonction : str()\n",
    "```\n",
    "chaine=str(1001101)\n",
    "```\n"
   ]
  },
  {
   "cell_type": "markdown",
   "metadata": {
    "colab_type": "text",
    "id": "fokQ77O6GU4j"
   },
   "source": [
    "Une chaîne de caractère peut être assimilé à une liste de lettres"
   ]
  },
  {
   "cell_type": "markdown",
   "metadata": {
    "colab_type": "text",
    "id": "bm4QoopEgBSB"
   },
   "source": [
    "**Pour obtenir la longueur d'une chaîne de caractère (un mot)**\n",
    "\n",
    "\n",
    "```\n",
    "chaine=str(1001101)\n",
    "longueur=len(chaine)\n",
    "```\n",
    "\n"
   ]
  },
  {
   "cell_type": "markdown",
   "metadata": {
    "colab_type": "text",
    "id": "QlIcj0-CHv2S"
   },
   "source": [
    "### Étape 2\n",
    "\n",
    "**Parcourir la chaîne de caractère :**\n",
    "\n",
    "Ce code permet de parcourir le mot en faisant afficher les éléments de celui-ci\n",
    "\n",
    "```\n",
    "chaine=str(1001101)\n",
    "for element in chaine:\n",
    "  print(element)\n",
    "```\n",
    "Littéralement cette boucle signifie : pour chaque lettre du mot \n",
    "afficher la lettre\n",
    "\n",
    "###À faire: \n",
    "Écrire ce code ci-dessous et le tester\n"
   ]
  },
  {
   "cell_type": "code",
   "execution_count": 0,
   "metadata": {
    "colab": {},
    "colab_type": "code",
    "id": "X7AA0NekIQl9"
   },
   "outputs": [],
   "source": [
    "#Écrire le code ici\n",
    "  \n",
    "         "
   ]
  },
  {
   "cell_type": "markdown",
   "metadata": {
    "colab_type": "text",
    "id": "Y8RvrrlhJPF5"
   },
   "source": [
    "###Étape 3\n",
    "\n",
    "**Calculer la somme d'une liste de nombre**\n",
    "\n",
    "Voici un code qui calcule la somme des éléments d'une liste de nombre:\n",
    "\n",
    "\n",
    "\n",
    "```\n",
    "liste=[1,0,0,1,1,0,1]\n",
    "s=0\n",
    "for element in liste:\n",
    "  s=s+element\n",
    "```\n",
    "\n",
    "###À faire:\n",
    "\n",
    "Écrire ce code ci-dessous et faites afficher le résultat ( vous devriez obtenir : 4)\n"
   ]
  },
  {
   "cell_type": "code",
   "execution_count": 0,
   "metadata": {
    "colab": {},
    "colab_type": "code",
    "id": "Hxk1ZiXLKDCw"
   },
   "outputs": [],
   "source": [
    "#Écrire le code ici"
   ]
  },
  {
   "cell_type": "markdown",
   "metadata": {
    "colab_type": "text",
    "id": "k05X05IvLfGo"
   },
   "source": [
    "###Étape 4\n",
    "\n",
    "Comment transformer '1' en le nombre 1\n",
    "\n",
    "Pour ce faire en Python on utilise la fonction\n",
    "\n",
    "```\n",
    "eval()\n",
    "```\n",
    "\n",
    "Testez ce code :\n"
   ]
  },
  {
   "cell_type": "code",
   "execution_count": 0,
   "metadata": {
    "colab": {},
    "colab_type": "code",
    "id": "PdPu3gvML3tq"
   },
   "outputs": [],
   "source": [
    "chaine=str(1001101)\n",
    "s=0\n",
    "for element in chaine:\n",
    "  s=s+eval(element)\n",
    "print(s)"
   ]
  },
  {
   "cell_type": "markdown",
   "metadata": {
    "colab_type": "text",
    "id": "S0i4kuoFMUJr"
   },
   "source": [
    "### Étape 6\n",
    "\n",
    "**Vous avez tout ce qu'il faut pour réaliser l'objectif**\n",
    "\n",
    "$2^3$ se code en Python :\n",
    "\n",
    "\n",
    "```\n",
    "2**3\n",
    "```\n"
   ]
  },
  {
   "cell_type": "code",
   "execution_count": 0,
   "metadata": {
    "colab": {},
    "colab_type": "code",
    "id": "L_TcUVv_Mqs_"
   },
   "outputs": [],
   "source": [
    "'''\n",
    "fonction qui renvoie la valeur en décimal\n",
    "d'un entier entré en binaire\n",
    "'''\n",
    "\n",
    "def binaireTodecimal(n):\n",
    "  #code à compléter\n",
    "  #\n",
    "  return s\n",
    "\n",
    "d=binaireTodecimal(1001101)\n",
    "print(d)\n"
   ]
  },
  {
   "cell_type": "markdown",
   "metadata": {
    "colab_type": "text",
    "id": "dY6zNKfzNjl_"
   },
   "source": [
    "**Vous pouvez tester votre code avec d'autres nombres (en binaire)**\n",
    "\n",
    "**Et vérifier le résultat avec la commande :**\n",
    "\n",
    "\n",
    "```\n",
    "print(bin(77))\n",
    "```\n",
    "renvoie :  0b1001101\n"
   ]
  },
  {
   "cell_type": "markdown",
   "metadata": {
    "colab_type": "text",
    "id": "uC60A1S9grUx"
   },
   "source": [
    "# Améliorations\n",
    "\n",
    "Comme vous l'avez peut-être remarqué, la fonction calcule un résultat même si l'entrée n'est pas un nombre en binaire...\n",
    "\n",
    "Il faudrait pouvoir tester l'entrée...\n",
    "\n",
    "Voici une fonction qui teste si l'entrée n'est composée que de $0$ ou de $1$\n",
    "\n",
    "###À faire :\n",
    "\n",
    "Rajoutez votre fonction (binaireTodecimal(n))\n",
    "\n",
    "et les instructions suivantes :\n",
    "\n",
    "\n",
    "```\n",
    "si testBinaire(...)==True:\n",
    "  faire quelque chose...\n",
    " sinon:\n",
    "  faire autre chose...\n",
    "```\n",
    "\n"
   ]
  },
  {
   "cell_type": "code",
   "execution_count": 0,
   "metadata": {
    "colab": {},
    "colab_type": "code",
    "id": "acl0-jt-x4AG"
   },
   "outputs": [],
   "source": [
    "'''\n",
    "fonction qui teste si un nombre entré\n",
    "n'est composé que de 0 ou de 1\n",
    "'''\n",
    "\n",
    "def testBinaire(n):\n",
    "  c=str(n)\n",
    "  for el in c:\n",
    "    if el!='0':\n",
    "      if el!='1':\n",
    "        return False\n",
    "  return True\n",
    "    \n",
    "#à compléter\n",
    "\n"
   ]
  },
  {
   "cell_type": "markdown",
   "metadata": {
    "colab_type": "text",
    "id": "ZOo1wltkHSvM"
   },
   "source": [
    "# De l'octal au décimal\n",
    "\n",
    "**En vous inspirant de la partie précédente, écrire un programme qui donne la valeur décimale d'un entier entré en octal.**\n",
    "\n",
    "Pour vérifier votre code l'instruction :\n",
    "\n",
    "\n",
    "```\n",
    "oct(77)\n",
    "```\n",
    "renvoie le nombre $77$ en octal\n"
   ]
  },
  {
   "cell_type": "code",
   "execution_count": 0,
   "metadata": {
    "colab": {},
    "colab_type": "code",
    "id": "5gQzkVpeHoNs"
   },
   "outputs": [],
   "source": [
    "#Écrire le programme ici"
   ]
  }
 ],
 "metadata": {
  "colab": {
   "collapsed_sections": [],
   "name": "TP_du binaire au décimal.ipynb",
   "provenance": [],
   "version": "0.3.2"
  },
  "kernelspec": {
   "display_name": "Python 3",
   "language": "python",
   "name": "python3"
  },
  "language_info": {
   "codemirror_mode": {
    "name": "ipython",
    "version": 3
   },
   "file_extension": ".py",
   "mimetype": "text/x-python",
   "name": "python",
   "nbconvert_exporter": "python",
   "pygments_lexer": "ipython3",
   "version": "3.7.1"
  }
 },
 "nbformat": 4,
 "nbformat_minor": 1
}
